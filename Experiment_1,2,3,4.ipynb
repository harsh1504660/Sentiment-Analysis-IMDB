{
  "nbformat": 4,
  "nbformat_minor": 0,
  "metadata": {
    "colab": {
      "provenance": [],
      "gpuType": "T4"
    },
    "kernelspec": {
      "name": "python3",
      "display_name": "Python 3"
    },
    "language_info": {
      "name": "python"
    },
    "accelerator": "GPU",
    "widgets": {
      "application/vnd.jupyter.widget-state+json": {
        "ca500306ba60426daf11dc6814cdd5e7": {
          "model_module": "@jupyter-widgets/controls",
          "model_name": "HBoxModel",
          "model_module_version": "1.5.0",
          "state": {
            "_dom_classes": [],
            "_model_module": "@jupyter-widgets/controls",
            "_model_module_version": "1.5.0",
            "_model_name": "HBoxModel",
            "_view_count": null,
            "_view_module": "@jupyter-widgets/controls",
            "_view_module_version": "1.5.0",
            "_view_name": "HBoxView",
            "box_style": "",
            "children": [
              "IPY_MODEL_6b8fab1b76a045599e55a77cab9a02fb",
              "IPY_MODEL_404bf2247def4b81b6a07ae726b3aa31",
              "IPY_MODEL_ef01fd702f644dce917a235fb79c280a"
            ],
            "layout": "IPY_MODEL_546c4e9bd4534a68820af1fd837a9d34"
          }
        },
        "6b8fab1b76a045599e55a77cab9a02fb": {
          "model_module": "@jupyter-widgets/controls",
          "model_name": "HTMLModel",
          "model_module_version": "1.5.0",
          "state": {
            "_dom_classes": [],
            "_model_module": "@jupyter-widgets/controls",
            "_model_module_version": "1.5.0",
            "_model_name": "HTMLModel",
            "_view_count": null,
            "_view_module": "@jupyter-widgets/controls",
            "_view_module_version": "1.5.0",
            "_view_name": "HTMLView",
            "description": "",
            "description_tooltip": null,
            "layout": "IPY_MODEL_2858bfbaf8cf4aa89f571cca26ff4f79",
            "placeholder": "​",
            "style": "IPY_MODEL_d8959d0f1aef425fb6788c3ec5e2f681",
            "value": "Dl Completed...: 100%"
          }
        },
        "404bf2247def4b81b6a07ae726b3aa31": {
          "model_module": "@jupyter-widgets/controls",
          "model_name": "FloatProgressModel",
          "model_module_version": "1.5.0",
          "state": {
            "_dom_classes": [],
            "_model_module": "@jupyter-widgets/controls",
            "_model_module_version": "1.5.0",
            "_model_name": "FloatProgressModel",
            "_view_count": null,
            "_view_module": "@jupyter-widgets/controls",
            "_view_module_version": "1.5.0",
            "_view_name": "ProgressView",
            "bar_style": "success",
            "description": "",
            "description_tooltip": null,
            "layout": "IPY_MODEL_51b3bdaa28cf4000a9532354c8dcd6be",
            "max": 1,
            "min": 0,
            "orientation": "horizontal",
            "style": "IPY_MODEL_1832edbb04d849829371e0e3543a84da",
            "value": 1
          }
        },
        "ef01fd702f644dce917a235fb79c280a": {
          "model_module": "@jupyter-widgets/controls",
          "model_name": "HTMLModel",
          "model_module_version": "1.5.0",
          "state": {
            "_dom_classes": [],
            "_model_module": "@jupyter-widgets/controls",
            "_model_module_version": "1.5.0",
            "_model_name": "HTMLModel",
            "_view_count": null,
            "_view_module": "@jupyter-widgets/controls",
            "_view_module_version": "1.5.0",
            "_view_name": "HTMLView",
            "description": "",
            "description_tooltip": null,
            "layout": "IPY_MODEL_a28184ecd6c1431aa00b838e3ea6215f",
            "placeholder": "​",
            "style": "IPY_MODEL_a9afcc672209495c8850196f189242bb",
            "value": " 1/1 [00:15&lt;00:00, 15.21s/ url]"
          }
        },
        "546c4e9bd4534a68820af1fd837a9d34": {
          "model_module": "@jupyter-widgets/base",
          "model_name": "LayoutModel",
          "model_module_version": "1.2.0",
          "state": {
            "_model_module": "@jupyter-widgets/base",
            "_model_module_version": "1.2.0",
            "_model_name": "LayoutModel",
            "_view_count": null,
            "_view_module": "@jupyter-widgets/base",
            "_view_module_version": "1.2.0",
            "_view_name": "LayoutView",
            "align_content": null,
            "align_items": null,
            "align_self": null,
            "border": null,
            "bottom": null,
            "display": null,
            "flex": null,
            "flex_flow": null,
            "grid_area": null,
            "grid_auto_columns": null,
            "grid_auto_flow": null,
            "grid_auto_rows": null,
            "grid_column": null,
            "grid_gap": null,
            "grid_row": null,
            "grid_template_areas": null,
            "grid_template_columns": null,
            "grid_template_rows": null,
            "height": null,
            "justify_content": null,
            "justify_items": null,
            "left": null,
            "margin": null,
            "max_height": null,
            "max_width": null,
            "min_height": null,
            "min_width": null,
            "object_fit": null,
            "object_position": null,
            "order": null,
            "overflow": null,
            "overflow_x": null,
            "overflow_y": null,
            "padding": null,
            "right": null,
            "top": null,
            "visibility": null,
            "width": null
          }
        },
        "2858bfbaf8cf4aa89f571cca26ff4f79": {
          "model_module": "@jupyter-widgets/base",
          "model_name": "LayoutModel",
          "model_module_version": "1.2.0",
          "state": {
            "_model_module": "@jupyter-widgets/base",
            "_model_module_version": "1.2.0",
            "_model_name": "LayoutModel",
            "_view_count": null,
            "_view_module": "@jupyter-widgets/base",
            "_view_module_version": "1.2.0",
            "_view_name": "LayoutView",
            "align_content": null,
            "align_items": null,
            "align_self": null,
            "border": null,
            "bottom": null,
            "display": null,
            "flex": null,
            "flex_flow": null,
            "grid_area": null,
            "grid_auto_columns": null,
            "grid_auto_flow": null,
            "grid_auto_rows": null,
            "grid_column": null,
            "grid_gap": null,
            "grid_row": null,
            "grid_template_areas": null,
            "grid_template_columns": null,
            "grid_template_rows": null,
            "height": null,
            "justify_content": null,
            "justify_items": null,
            "left": null,
            "margin": null,
            "max_height": null,
            "max_width": null,
            "min_height": null,
            "min_width": null,
            "object_fit": null,
            "object_position": null,
            "order": null,
            "overflow": null,
            "overflow_x": null,
            "overflow_y": null,
            "padding": null,
            "right": null,
            "top": null,
            "visibility": null,
            "width": null
          }
        },
        "d8959d0f1aef425fb6788c3ec5e2f681": {
          "model_module": "@jupyter-widgets/controls",
          "model_name": "DescriptionStyleModel",
          "model_module_version": "1.5.0",
          "state": {
            "_model_module": "@jupyter-widgets/controls",
            "_model_module_version": "1.5.0",
            "_model_name": "DescriptionStyleModel",
            "_view_count": null,
            "_view_module": "@jupyter-widgets/base",
            "_view_module_version": "1.2.0",
            "_view_name": "StyleView",
            "description_width": ""
          }
        },
        "51b3bdaa28cf4000a9532354c8dcd6be": {
          "model_module": "@jupyter-widgets/base",
          "model_name": "LayoutModel",
          "model_module_version": "1.2.0",
          "state": {
            "_model_module": "@jupyter-widgets/base",
            "_model_module_version": "1.2.0",
            "_model_name": "LayoutModel",
            "_view_count": null,
            "_view_module": "@jupyter-widgets/base",
            "_view_module_version": "1.2.0",
            "_view_name": "LayoutView",
            "align_content": null,
            "align_items": null,
            "align_self": null,
            "border": null,
            "bottom": null,
            "display": null,
            "flex": null,
            "flex_flow": null,
            "grid_area": null,
            "grid_auto_columns": null,
            "grid_auto_flow": null,
            "grid_auto_rows": null,
            "grid_column": null,
            "grid_gap": null,
            "grid_row": null,
            "grid_template_areas": null,
            "grid_template_columns": null,
            "grid_template_rows": null,
            "height": null,
            "justify_content": null,
            "justify_items": null,
            "left": null,
            "margin": null,
            "max_height": null,
            "max_width": null,
            "min_height": null,
            "min_width": null,
            "object_fit": null,
            "object_position": null,
            "order": null,
            "overflow": null,
            "overflow_x": null,
            "overflow_y": null,
            "padding": null,
            "right": null,
            "top": null,
            "visibility": null,
            "width": "20px"
          }
        },
        "1832edbb04d849829371e0e3543a84da": {
          "model_module": "@jupyter-widgets/controls",
          "model_name": "ProgressStyleModel",
          "model_module_version": "1.5.0",
          "state": {
            "_model_module": "@jupyter-widgets/controls",
            "_model_module_version": "1.5.0",
            "_model_name": "ProgressStyleModel",
            "_view_count": null,
            "_view_module": "@jupyter-widgets/base",
            "_view_module_version": "1.2.0",
            "_view_name": "StyleView",
            "bar_color": null,
            "description_width": ""
          }
        },
        "a28184ecd6c1431aa00b838e3ea6215f": {
          "model_module": "@jupyter-widgets/base",
          "model_name": "LayoutModel",
          "model_module_version": "1.2.0",
          "state": {
            "_model_module": "@jupyter-widgets/base",
            "_model_module_version": "1.2.0",
            "_model_name": "LayoutModel",
            "_view_count": null,
            "_view_module": "@jupyter-widgets/base",
            "_view_module_version": "1.2.0",
            "_view_name": "LayoutView",
            "align_content": null,
            "align_items": null,
            "align_self": null,
            "border": null,
            "bottom": null,
            "display": null,
            "flex": null,
            "flex_flow": null,
            "grid_area": null,
            "grid_auto_columns": null,
            "grid_auto_flow": null,
            "grid_auto_rows": null,
            "grid_column": null,
            "grid_gap": null,
            "grid_row": null,
            "grid_template_areas": null,
            "grid_template_columns": null,
            "grid_template_rows": null,
            "height": null,
            "justify_content": null,
            "justify_items": null,
            "left": null,
            "margin": null,
            "max_height": null,
            "max_width": null,
            "min_height": null,
            "min_width": null,
            "object_fit": null,
            "object_position": null,
            "order": null,
            "overflow": null,
            "overflow_x": null,
            "overflow_y": null,
            "padding": null,
            "right": null,
            "top": null,
            "visibility": null,
            "width": null
          }
        },
        "a9afcc672209495c8850196f189242bb": {
          "model_module": "@jupyter-widgets/controls",
          "model_name": "DescriptionStyleModel",
          "model_module_version": "1.5.0",
          "state": {
            "_model_module": "@jupyter-widgets/controls",
            "_model_module_version": "1.5.0",
            "_model_name": "DescriptionStyleModel",
            "_view_count": null,
            "_view_module": "@jupyter-widgets/base",
            "_view_module_version": "1.2.0",
            "_view_name": "StyleView",
            "description_width": ""
          }
        },
        "e54cd1fdc16144db97af6af57630de8a": {
          "model_module": "@jupyter-widgets/controls",
          "model_name": "HBoxModel",
          "model_module_version": "1.5.0",
          "state": {
            "_dom_classes": [],
            "_model_module": "@jupyter-widgets/controls",
            "_model_module_version": "1.5.0",
            "_model_name": "HBoxModel",
            "_view_count": null,
            "_view_module": "@jupyter-widgets/controls",
            "_view_module_version": "1.5.0",
            "_view_name": "HBoxView",
            "box_style": "",
            "children": [
              "IPY_MODEL_98780ae60bb648a7ad8af1120fde50e3",
              "IPY_MODEL_86e5072c7e104b469ebf261c40fe7c54",
              "IPY_MODEL_4e62528f34bc4bf495af7b3d7d58b295"
            ],
            "layout": "IPY_MODEL_a895de36646640eea77bcb6b3302091c"
          }
        },
        "98780ae60bb648a7ad8af1120fde50e3": {
          "model_module": "@jupyter-widgets/controls",
          "model_name": "HTMLModel",
          "model_module_version": "1.5.0",
          "state": {
            "_dom_classes": [],
            "_model_module": "@jupyter-widgets/controls",
            "_model_module_version": "1.5.0",
            "_model_name": "HTMLModel",
            "_view_count": null,
            "_view_module": "@jupyter-widgets/controls",
            "_view_module_version": "1.5.0",
            "_view_name": "HTMLView",
            "description": "",
            "description_tooltip": null,
            "layout": "IPY_MODEL_4d984f6eff24423f969cb5255eb503b0",
            "placeholder": "​",
            "style": "IPY_MODEL_1335f395bbb44080862eba678e76ff59",
            "value": "Dl Size...: 100%"
          }
        },
        "86e5072c7e104b469ebf261c40fe7c54": {
          "model_module": "@jupyter-widgets/controls",
          "model_name": "FloatProgressModel",
          "model_module_version": "1.5.0",
          "state": {
            "_dom_classes": [],
            "_model_module": "@jupyter-widgets/controls",
            "_model_module_version": "1.5.0",
            "_model_name": "FloatProgressModel",
            "_view_count": null,
            "_view_module": "@jupyter-widgets/controls",
            "_view_module_version": "1.5.0",
            "_view_name": "ProgressView",
            "bar_style": "success",
            "description": "",
            "description_tooltip": null,
            "layout": "IPY_MODEL_5dfab96b47dd469aabbe4163c31f70ef",
            "max": 1,
            "min": 0,
            "orientation": "horizontal",
            "style": "IPY_MODEL_e6c82b182efb4b178d02b97f79f4c716",
            "value": 1
          }
        },
        "4e62528f34bc4bf495af7b3d7d58b295": {
          "model_module": "@jupyter-widgets/controls",
          "model_name": "HTMLModel",
          "model_module_version": "1.5.0",
          "state": {
            "_dom_classes": [],
            "_model_module": "@jupyter-widgets/controls",
            "_model_module_version": "1.5.0",
            "_model_name": "HTMLModel",
            "_view_count": null,
            "_view_module": "@jupyter-widgets/controls",
            "_view_module_version": "1.5.0",
            "_view_name": "HTMLView",
            "description": "",
            "description_tooltip": null,
            "layout": "IPY_MODEL_2230e5624f104180870672f965570443",
            "placeholder": "​",
            "style": "IPY_MODEL_9d90e74690884af1929ee599b199cce4",
            "value": " 80/80 [00:15&lt;00:00, 10.34 MiB/s]"
          }
        },
        "a895de36646640eea77bcb6b3302091c": {
          "model_module": "@jupyter-widgets/base",
          "model_name": "LayoutModel",
          "model_module_version": "1.2.0",
          "state": {
            "_model_module": "@jupyter-widgets/base",
            "_model_module_version": "1.2.0",
            "_model_name": "LayoutModel",
            "_view_count": null,
            "_view_module": "@jupyter-widgets/base",
            "_view_module_version": "1.2.0",
            "_view_name": "LayoutView",
            "align_content": null,
            "align_items": null,
            "align_self": null,
            "border": null,
            "bottom": null,
            "display": null,
            "flex": null,
            "flex_flow": null,
            "grid_area": null,
            "grid_auto_columns": null,
            "grid_auto_flow": null,
            "grid_auto_rows": null,
            "grid_column": null,
            "grid_gap": null,
            "grid_row": null,
            "grid_template_areas": null,
            "grid_template_columns": null,
            "grid_template_rows": null,
            "height": null,
            "justify_content": null,
            "justify_items": null,
            "left": null,
            "margin": null,
            "max_height": null,
            "max_width": null,
            "min_height": null,
            "min_width": null,
            "object_fit": null,
            "object_position": null,
            "order": null,
            "overflow": null,
            "overflow_x": null,
            "overflow_y": null,
            "padding": null,
            "right": null,
            "top": null,
            "visibility": null,
            "width": null
          }
        },
        "4d984f6eff24423f969cb5255eb503b0": {
          "model_module": "@jupyter-widgets/base",
          "model_name": "LayoutModel",
          "model_module_version": "1.2.0",
          "state": {
            "_model_module": "@jupyter-widgets/base",
            "_model_module_version": "1.2.0",
            "_model_name": "LayoutModel",
            "_view_count": null,
            "_view_module": "@jupyter-widgets/base",
            "_view_module_version": "1.2.0",
            "_view_name": "LayoutView",
            "align_content": null,
            "align_items": null,
            "align_self": null,
            "border": null,
            "bottom": null,
            "display": null,
            "flex": null,
            "flex_flow": null,
            "grid_area": null,
            "grid_auto_columns": null,
            "grid_auto_flow": null,
            "grid_auto_rows": null,
            "grid_column": null,
            "grid_gap": null,
            "grid_row": null,
            "grid_template_areas": null,
            "grid_template_columns": null,
            "grid_template_rows": null,
            "height": null,
            "justify_content": null,
            "justify_items": null,
            "left": null,
            "margin": null,
            "max_height": null,
            "max_width": null,
            "min_height": null,
            "min_width": null,
            "object_fit": null,
            "object_position": null,
            "order": null,
            "overflow": null,
            "overflow_x": null,
            "overflow_y": null,
            "padding": null,
            "right": null,
            "top": null,
            "visibility": null,
            "width": null
          }
        },
        "1335f395bbb44080862eba678e76ff59": {
          "model_module": "@jupyter-widgets/controls",
          "model_name": "DescriptionStyleModel",
          "model_module_version": "1.5.0",
          "state": {
            "_model_module": "@jupyter-widgets/controls",
            "_model_module_version": "1.5.0",
            "_model_name": "DescriptionStyleModel",
            "_view_count": null,
            "_view_module": "@jupyter-widgets/base",
            "_view_module_version": "1.2.0",
            "_view_name": "StyleView",
            "description_width": ""
          }
        },
        "5dfab96b47dd469aabbe4163c31f70ef": {
          "model_module": "@jupyter-widgets/base",
          "model_name": "LayoutModel",
          "model_module_version": "1.2.0",
          "state": {
            "_model_module": "@jupyter-widgets/base",
            "_model_module_version": "1.2.0",
            "_model_name": "LayoutModel",
            "_view_count": null,
            "_view_module": "@jupyter-widgets/base",
            "_view_module_version": "1.2.0",
            "_view_name": "LayoutView",
            "align_content": null,
            "align_items": null,
            "align_self": null,
            "border": null,
            "bottom": null,
            "display": null,
            "flex": null,
            "flex_flow": null,
            "grid_area": null,
            "grid_auto_columns": null,
            "grid_auto_flow": null,
            "grid_auto_rows": null,
            "grid_column": null,
            "grid_gap": null,
            "grid_row": null,
            "grid_template_areas": null,
            "grid_template_columns": null,
            "grid_template_rows": null,
            "height": null,
            "justify_content": null,
            "justify_items": null,
            "left": null,
            "margin": null,
            "max_height": null,
            "max_width": null,
            "min_height": null,
            "min_width": null,
            "object_fit": null,
            "object_position": null,
            "order": null,
            "overflow": null,
            "overflow_x": null,
            "overflow_y": null,
            "padding": null,
            "right": null,
            "top": null,
            "visibility": null,
            "width": "20px"
          }
        },
        "e6c82b182efb4b178d02b97f79f4c716": {
          "model_module": "@jupyter-widgets/controls",
          "model_name": "ProgressStyleModel",
          "model_module_version": "1.5.0",
          "state": {
            "_model_module": "@jupyter-widgets/controls",
            "_model_module_version": "1.5.0",
            "_model_name": "ProgressStyleModel",
            "_view_count": null,
            "_view_module": "@jupyter-widgets/base",
            "_view_module_version": "1.2.0",
            "_view_name": "StyleView",
            "bar_color": null,
            "description_width": ""
          }
        },
        "2230e5624f104180870672f965570443": {
          "model_module": "@jupyter-widgets/base",
          "model_name": "LayoutModel",
          "model_module_version": "1.2.0",
          "state": {
            "_model_module": "@jupyter-widgets/base",
            "_model_module_version": "1.2.0",
            "_model_name": "LayoutModel",
            "_view_count": null,
            "_view_module": "@jupyter-widgets/base",
            "_view_module_version": "1.2.0",
            "_view_name": "LayoutView",
            "align_content": null,
            "align_items": null,
            "align_self": null,
            "border": null,
            "bottom": null,
            "display": null,
            "flex": null,
            "flex_flow": null,
            "grid_area": null,
            "grid_auto_columns": null,
            "grid_auto_flow": null,
            "grid_auto_rows": null,
            "grid_column": null,
            "grid_gap": null,
            "grid_row": null,
            "grid_template_areas": null,
            "grid_template_columns": null,
            "grid_template_rows": null,
            "height": null,
            "justify_content": null,
            "justify_items": null,
            "left": null,
            "margin": null,
            "max_height": null,
            "max_width": null,
            "min_height": null,
            "min_width": null,
            "object_fit": null,
            "object_position": null,
            "order": null,
            "overflow": null,
            "overflow_x": null,
            "overflow_y": null,
            "padding": null,
            "right": null,
            "top": null,
            "visibility": null,
            "width": null
          }
        },
        "9d90e74690884af1929ee599b199cce4": {
          "model_module": "@jupyter-widgets/controls",
          "model_name": "DescriptionStyleModel",
          "model_module_version": "1.5.0",
          "state": {
            "_model_module": "@jupyter-widgets/controls",
            "_model_module_version": "1.5.0",
            "_model_name": "DescriptionStyleModel",
            "_view_count": null,
            "_view_module": "@jupyter-widgets/base",
            "_view_module_version": "1.2.0",
            "_view_name": "StyleView",
            "description_width": ""
          }
        },
        "5d5c852ffa0743c2a9894570adf71668": {
          "model_module": "@jupyter-widgets/controls",
          "model_name": "HBoxModel",
          "model_module_version": "1.5.0",
          "state": {
            "_dom_classes": [],
            "_model_module": "@jupyter-widgets/controls",
            "_model_module_version": "1.5.0",
            "_model_name": "HBoxModel",
            "_view_count": null,
            "_view_module": "@jupyter-widgets/controls",
            "_view_module_version": "1.5.0",
            "_view_name": "HBoxView",
            "box_style": "",
            "children": [
              "IPY_MODEL_438cf5fc895f4eeea464d1c2ed3f23fa",
              "IPY_MODEL_0fc02273414f40ddb6300140d5db0b44",
              "IPY_MODEL_042de023a9854a299d703c0f46f1e75f"
            ],
            "layout": "IPY_MODEL_d2948f06e0e04acda5ea3b03a40fadc0"
          }
        },
        "438cf5fc895f4eeea464d1c2ed3f23fa": {
          "model_module": "@jupyter-widgets/controls",
          "model_name": "HTMLModel",
          "model_module_version": "1.5.0",
          "state": {
            "_dom_classes": [],
            "_model_module": "@jupyter-widgets/controls",
            "_model_module_version": "1.5.0",
            "_model_name": "HTMLModel",
            "_view_count": null,
            "_view_module": "@jupyter-widgets/controls",
            "_view_module_version": "1.5.0",
            "_view_name": "HTMLView",
            "description": "",
            "description_tooltip": null,
            "layout": "IPY_MODEL_278292bad3b5495cbb79e697c643eedf",
            "placeholder": "​",
            "style": "IPY_MODEL_4e04b9ea278943b8a1a57d810b931c8e",
            "value": "Generating splits...: 100%"
          }
        },
        "0fc02273414f40ddb6300140d5db0b44": {
          "model_module": "@jupyter-widgets/controls",
          "model_name": "FloatProgressModel",
          "model_module_version": "1.5.0",
          "state": {
            "_dom_classes": [],
            "_model_module": "@jupyter-widgets/controls",
            "_model_module_version": "1.5.0",
            "_model_name": "FloatProgressModel",
            "_view_count": null,
            "_view_module": "@jupyter-widgets/controls",
            "_view_module_version": "1.5.0",
            "_view_name": "ProgressView",
            "bar_style": "",
            "description": "",
            "description_tooltip": null,
            "layout": "IPY_MODEL_c921b23a77a84f0d801dc96104d96268",
            "max": 3,
            "min": 0,
            "orientation": "horizontal",
            "style": "IPY_MODEL_f4776f736dcd49af992730ea5b6aea4f",
            "value": 3
          }
        },
        "042de023a9854a299d703c0f46f1e75f": {
          "model_module": "@jupyter-widgets/controls",
          "model_name": "HTMLModel",
          "model_module_version": "1.5.0",
          "state": {
            "_dom_classes": [],
            "_model_module": "@jupyter-widgets/controls",
            "_model_module_version": "1.5.0",
            "_model_name": "HTMLModel",
            "_view_count": null,
            "_view_module": "@jupyter-widgets/controls",
            "_view_module_version": "1.5.0",
            "_view_name": "HTMLView",
            "description": "",
            "description_tooltip": null,
            "layout": "IPY_MODEL_0d0987d3f55a441daaaa558462158e35",
            "placeholder": "​",
            "style": "IPY_MODEL_94b288a2798e49dcb40d9af0b9153571",
            "value": " 3/3 [00:39&lt;00:00, 13.08s/ splits]"
          }
        },
        "d2948f06e0e04acda5ea3b03a40fadc0": {
          "model_module": "@jupyter-widgets/base",
          "model_name": "LayoutModel",
          "model_module_version": "1.2.0",
          "state": {
            "_model_module": "@jupyter-widgets/base",
            "_model_module_version": "1.2.0",
            "_model_name": "LayoutModel",
            "_view_count": null,
            "_view_module": "@jupyter-widgets/base",
            "_view_module_version": "1.2.0",
            "_view_name": "LayoutView",
            "align_content": null,
            "align_items": null,
            "align_self": null,
            "border": null,
            "bottom": null,
            "display": null,
            "flex": null,
            "flex_flow": null,
            "grid_area": null,
            "grid_auto_columns": null,
            "grid_auto_flow": null,
            "grid_auto_rows": null,
            "grid_column": null,
            "grid_gap": null,
            "grid_row": null,
            "grid_template_areas": null,
            "grid_template_columns": null,
            "grid_template_rows": null,
            "height": null,
            "justify_content": null,
            "justify_items": null,
            "left": null,
            "margin": null,
            "max_height": null,
            "max_width": null,
            "min_height": null,
            "min_width": null,
            "object_fit": null,
            "object_position": null,
            "order": null,
            "overflow": null,
            "overflow_x": null,
            "overflow_y": null,
            "padding": null,
            "right": null,
            "top": null,
            "visibility": "hidden",
            "width": null
          }
        },
        "278292bad3b5495cbb79e697c643eedf": {
          "model_module": "@jupyter-widgets/base",
          "model_name": "LayoutModel",
          "model_module_version": "1.2.0",
          "state": {
            "_model_module": "@jupyter-widgets/base",
            "_model_module_version": "1.2.0",
            "_model_name": "LayoutModel",
            "_view_count": null,
            "_view_module": "@jupyter-widgets/base",
            "_view_module_version": "1.2.0",
            "_view_name": "LayoutView",
            "align_content": null,
            "align_items": null,
            "align_self": null,
            "border": null,
            "bottom": null,
            "display": null,
            "flex": null,
            "flex_flow": null,
            "grid_area": null,
            "grid_auto_columns": null,
            "grid_auto_flow": null,
            "grid_auto_rows": null,
            "grid_column": null,
            "grid_gap": null,
            "grid_row": null,
            "grid_template_areas": null,
            "grid_template_columns": null,
            "grid_template_rows": null,
            "height": null,
            "justify_content": null,
            "justify_items": null,
            "left": null,
            "margin": null,
            "max_height": null,
            "max_width": null,
            "min_height": null,
            "min_width": null,
            "object_fit": null,
            "object_position": null,
            "order": null,
            "overflow": null,
            "overflow_x": null,
            "overflow_y": null,
            "padding": null,
            "right": null,
            "top": null,
            "visibility": null,
            "width": null
          }
        },
        "4e04b9ea278943b8a1a57d810b931c8e": {
          "model_module": "@jupyter-widgets/controls",
          "model_name": "DescriptionStyleModel",
          "model_module_version": "1.5.0",
          "state": {
            "_model_module": "@jupyter-widgets/controls",
            "_model_module_version": "1.5.0",
            "_model_name": "DescriptionStyleModel",
            "_view_count": null,
            "_view_module": "@jupyter-widgets/base",
            "_view_module_version": "1.2.0",
            "_view_name": "StyleView",
            "description_width": ""
          }
        },
        "c921b23a77a84f0d801dc96104d96268": {
          "model_module": "@jupyter-widgets/base",
          "model_name": "LayoutModel",
          "model_module_version": "1.2.0",
          "state": {
            "_model_module": "@jupyter-widgets/base",
            "_model_module_version": "1.2.0",
            "_model_name": "LayoutModel",
            "_view_count": null,
            "_view_module": "@jupyter-widgets/base",
            "_view_module_version": "1.2.0",
            "_view_name": "LayoutView",
            "align_content": null,
            "align_items": null,
            "align_self": null,
            "border": null,
            "bottom": null,
            "display": null,
            "flex": null,
            "flex_flow": null,
            "grid_area": null,
            "grid_auto_columns": null,
            "grid_auto_flow": null,
            "grid_auto_rows": null,
            "grid_column": null,
            "grid_gap": null,
            "grid_row": null,
            "grid_template_areas": null,
            "grid_template_columns": null,
            "grid_template_rows": null,
            "height": null,
            "justify_content": null,
            "justify_items": null,
            "left": null,
            "margin": null,
            "max_height": null,
            "max_width": null,
            "min_height": null,
            "min_width": null,
            "object_fit": null,
            "object_position": null,
            "order": null,
            "overflow": null,
            "overflow_x": null,
            "overflow_y": null,
            "padding": null,
            "right": null,
            "top": null,
            "visibility": null,
            "width": null
          }
        },
        "f4776f736dcd49af992730ea5b6aea4f": {
          "model_module": "@jupyter-widgets/controls",
          "model_name": "ProgressStyleModel",
          "model_module_version": "1.5.0",
          "state": {
            "_model_module": "@jupyter-widgets/controls",
            "_model_module_version": "1.5.0",
            "_model_name": "ProgressStyleModel",
            "_view_count": null,
            "_view_module": "@jupyter-widgets/base",
            "_view_module_version": "1.2.0",
            "_view_name": "StyleView",
            "bar_color": null,
            "description_width": ""
          }
        },
        "0d0987d3f55a441daaaa558462158e35": {
          "model_module": "@jupyter-widgets/base",
          "model_name": "LayoutModel",
          "model_module_version": "1.2.0",
          "state": {
            "_model_module": "@jupyter-widgets/base",
            "_model_module_version": "1.2.0",
            "_model_name": "LayoutModel",
            "_view_count": null,
            "_view_module": "@jupyter-widgets/base",
            "_view_module_version": "1.2.0",
            "_view_name": "LayoutView",
            "align_content": null,
            "align_items": null,
            "align_self": null,
            "border": null,
            "bottom": null,
            "display": null,
            "flex": null,
            "flex_flow": null,
            "grid_area": null,
            "grid_auto_columns": null,
            "grid_auto_flow": null,
            "grid_auto_rows": null,
            "grid_column": null,
            "grid_gap": null,
            "grid_row": null,
            "grid_template_areas": null,
            "grid_template_columns": null,
            "grid_template_rows": null,
            "height": null,
            "justify_content": null,
            "justify_items": null,
            "left": null,
            "margin": null,
            "max_height": null,
            "max_width": null,
            "min_height": null,
            "min_width": null,
            "object_fit": null,
            "object_position": null,
            "order": null,
            "overflow": null,
            "overflow_x": null,
            "overflow_y": null,
            "padding": null,
            "right": null,
            "top": null,
            "visibility": null,
            "width": null
          }
        },
        "94b288a2798e49dcb40d9af0b9153571": {
          "model_module": "@jupyter-widgets/controls",
          "model_name": "DescriptionStyleModel",
          "model_module_version": "1.5.0",
          "state": {
            "_model_module": "@jupyter-widgets/controls",
            "_model_module_version": "1.5.0",
            "_model_name": "DescriptionStyleModel",
            "_view_count": null,
            "_view_module": "@jupyter-widgets/base",
            "_view_module_version": "1.2.0",
            "_view_name": "StyleView",
            "description_width": ""
          }
        },
        "0d7a8c9aefcb4e48ae08b4034bacf6be": {
          "model_module": "@jupyter-widgets/controls",
          "model_name": "HBoxModel",
          "model_module_version": "1.5.0",
          "state": {
            "_dom_classes": [],
            "_model_module": "@jupyter-widgets/controls",
            "_model_module_version": "1.5.0",
            "_model_name": "HBoxModel",
            "_view_count": null,
            "_view_module": "@jupyter-widgets/controls",
            "_view_module_version": "1.5.0",
            "_view_name": "HBoxView",
            "box_style": "",
            "children": [
              "IPY_MODEL_af636aa490ff408fb46ee5d0ca58114d",
              "IPY_MODEL_a694e1a632394af2a0dd60667e9aceb6",
              "IPY_MODEL_1553556648654528af1eccc1588036f6"
            ],
            "layout": "IPY_MODEL_c59fcb054ef94e5c96c4ed5440c3bae8"
          }
        },
        "af636aa490ff408fb46ee5d0ca58114d": {
          "model_module": "@jupyter-widgets/controls",
          "model_name": "HTMLModel",
          "model_module_version": "1.5.0",
          "state": {
            "_dom_classes": [],
            "_model_module": "@jupyter-widgets/controls",
            "_model_module_version": "1.5.0",
            "_model_name": "HTMLModel",
            "_view_count": null,
            "_view_module": "@jupyter-widgets/controls",
            "_view_module_version": "1.5.0",
            "_view_name": "HTMLView",
            "description": "",
            "description_tooltip": null,
            "layout": "IPY_MODEL_9b2c9339184e42e6a5c04d4c1ab19a12",
            "placeholder": "​",
            "style": "IPY_MODEL_0d58c12b3c334bdeae090a9ae77cc99b",
            "value": "Generating train examples...:  82%"
          }
        },
        "a694e1a632394af2a0dd60667e9aceb6": {
          "model_module": "@jupyter-widgets/controls",
          "model_name": "FloatProgressModel",
          "model_module_version": "1.5.0",
          "state": {
            "_dom_classes": [],
            "_model_module": "@jupyter-widgets/controls",
            "_model_module_version": "1.5.0",
            "_model_name": "FloatProgressModel",
            "_view_count": null,
            "_view_module": "@jupyter-widgets/controls",
            "_view_module_version": "1.5.0",
            "_view_name": "ProgressView",
            "bar_style": "",
            "description": "",
            "description_tooltip": null,
            "layout": "IPY_MODEL_f5ac14c3e58f4a49a32c8ed86539d489",
            "max": 25000,
            "min": 0,
            "orientation": "horizontal",
            "style": "IPY_MODEL_50848c73033e4d40b44caf07a7ac74e1",
            "value": 25000
          }
        },
        "1553556648654528af1eccc1588036f6": {
          "model_module": "@jupyter-widgets/controls",
          "model_name": "HTMLModel",
          "model_module_version": "1.5.0",
          "state": {
            "_dom_classes": [],
            "_model_module": "@jupyter-widgets/controls",
            "_model_module_version": "1.5.0",
            "_model_name": "HTMLModel",
            "_view_count": null,
            "_view_module": "@jupyter-widgets/controls",
            "_view_module_version": "1.5.0",
            "_view_name": "HTMLView",
            "description": "",
            "description_tooltip": null,
            "layout": "IPY_MODEL_df93d272a54e433fb077e4190194c3af",
            "placeholder": "​",
            "style": "IPY_MODEL_716952e5953c41979a6de53279b02270",
            "value": " 20414/25000 [00:09&lt;00:01, 3598.05 examples/s]"
          }
        },
        "c59fcb054ef94e5c96c4ed5440c3bae8": {
          "model_module": "@jupyter-widgets/base",
          "model_name": "LayoutModel",
          "model_module_version": "1.2.0",
          "state": {
            "_model_module": "@jupyter-widgets/base",
            "_model_module_version": "1.2.0",
            "_model_name": "LayoutModel",
            "_view_count": null,
            "_view_module": "@jupyter-widgets/base",
            "_view_module_version": "1.2.0",
            "_view_name": "LayoutView",
            "align_content": null,
            "align_items": null,
            "align_self": null,
            "border": null,
            "bottom": null,
            "display": null,
            "flex": null,
            "flex_flow": null,
            "grid_area": null,
            "grid_auto_columns": null,
            "grid_auto_flow": null,
            "grid_auto_rows": null,
            "grid_column": null,
            "grid_gap": null,
            "grid_row": null,
            "grid_template_areas": null,
            "grid_template_columns": null,
            "grid_template_rows": null,
            "height": null,
            "justify_content": null,
            "justify_items": null,
            "left": null,
            "margin": null,
            "max_height": null,
            "max_width": null,
            "min_height": null,
            "min_width": null,
            "object_fit": null,
            "object_position": null,
            "order": null,
            "overflow": null,
            "overflow_x": null,
            "overflow_y": null,
            "padding": null,
            "right": null,
            "top": null,
            "visibility": "hidden",
            "width": null
          }
        },
        "9b2c9339184e42e6a5c04d4c1ab19a12": {
          "model_module": "@jupyter-widgets/base",
          "model_name": "LayoutModel",
          "model_module_version": "1.2.0",
          "state": {
            "_model_module": "@jupyter-widgets/base",
            "_model_module_version": "1.2.0",
            "_model_name": "LayoutModel",
            "_view_count": null,
            "_view_module": "@jupyter-widgets/base",
            "_view_module_version": "1.2.0",
            "_view_name": "LayoutView",
            "align_content": null,
            "align_items": null,
            "align_self": null,
            "border": null,
            "bottom": null,
            "display": null,
            "flex": null,
            "flex_flow": null,
            "grid_area": null,
            "grid_auto_columns": null,
            "grid_auto_flow": null,
            "grid_auto_rows": null,
            "grid_column": null,
            "grid_gap": null,
            "grid_row": null,
            "grid_template_areas": null,
            "grid_template_columns": null,
            "grid_template_rows": null,
            "height": null,
            "justify_content": null,
            "justify_items": null,
            "left": null,
            "margin": null,
            "max_height": null,
            "max_width": null,
            "min_height": null,
            "min_width": null,
            "object_fit": null,
            "object_position": null,
            "order": null,
            "overflow": null,
            "overflow_x": null,
            "overflow_y": null,
            "padding": null,
            "right": null,
            "top": null,
            "visibility": null,
            "width": null
          }
        },
        "0d58c12b3c334bdeae090a9ae77cc99b": {
          "model_module": "@jupyter-widgets/controls",
          "model_name": "DescriptionStyleModel",
          "model_module_version": "1.5.0",
          "state": {
            "_model_module": "@jupyter-widgets/controls",
            "_model_module_version": "1.5.0",
            "_model_name": "DescriptionStyleModel",
            "_view_count": null,
            "_view_module": "@jupyter-widgets/base",
            "_view_module_version": "1.2.0",
            "_view_name": "StyleView",
            "description_width": ""
          }
        },
        "f5ac14c3e58f4a49a32c8ed86539d489": {
          "model_module": "@jupyter-widgets/base",
          "model_name": "LayoutModel",
          "model_module_version": "1.2.0",
          "state": {
            "_model_module": "@jupyter-widgets/base",
            "_model_module_version": "1.2.0",
            "_model_name": "LayoutModel",
            "_view_count": null,
            "_view_module": "@jupyter-widgets/base",
            "_view_module_version": "1.2.0",
            "_view_name": "LayoutView",
            "align_content": null,
            "align_items": null,
            "align_self": null,
            "border": null,
            "bottom": null,
            "display": null,
            "flex": null,
            "flex_flow": null,
            "grid_area": null,
            "grid_auto_columns": null,
            "grid_auto_flow": null,
            "grid_auto_rows": null,
            "grid_column": null,
            "grid_gap": null,
            "grid_row": null,
            "grid_template_areas": null,
            "grid_template_columns": null,
            "grid_template_rows": null,
            "height": null,
            "justify_content": null,
            "justify_items": null,
            "left": null,
            "margin": null,
            "max_height": null,
            "max_width": null,
            "min_height": null,
            "min_width": null,
            "object_fit": null,
            "object_position": null,
            "order": null,
            "overflow": null,
            "overflow_x": null,
            "overflow_y": null,
            "padding": null,
            "right": null,
            "top": null,
            "visibility": null,
            "width": null
          }
        },
        "50848c73033e4d40b44caf07a7ac74e1": {
          "model_module": "@jupyter-widgets/controls",
          "model_name": "ProgressStyleModel",
          "model_module_version": "1.5.0",
          "state": {
            "_model_module": "@jupyter-widgets/controls",
            "_model_module_version": "1.5.0",
            "_model_name": "ProgressStyleModel",
            "_view_count": null,
            "_view_module": "@jupyter-widgets/base",
            "_view_module_version": "1.2.0",
            "_view_name": "StyleView",
            "bar_color": null,
            "description_width": ""
          }
        },
        "df93d272a54e433fb077e4190194c3af": {
          "model_module": "@jupyter-widgets/base",
          "model_name": "LayoutModel",
          "model_module_version": "1.2.0",
          "state": {
            "_model_module": "@jupyter-widgets/base",
            "_model_module_version": "1.2.0",
            "_model_name": "LayoutModel",
            "_view_count": null,
            "_view_module": "@jupyter-widgets/base",
            "_view_module_version": "1.2.0",
            "_view_name": "LayoutView",
            "align_content": null,
            "align_items": null,
            "align_self": null,
            "border": null,
            "bottom": null,
            "display": null,
            "flex": null,
            "flex_flow": null,
            "grid_area": null,
            "grid_auto_columns": null,
            "grid_auto_flow": null,
            "grid_auto_rows": null,
            "grid_column": null,
            "grid_gap": null,
            "grid_row": null,
            "grid_template_areas": null,
            "grid_template_columns": null,
            "grid_template_rows": null,
            "height": null,
            "justify_content": null,
            "justify_items": null,
            "left": null,
            "margin": null,
            "max_height": null,
            "max_width": null,
            "min_height": null,
            "min_width": null,
            "object_fit": null,
            "object_position": null,
            "order": null,
            "overflow": null,
            "overflow_x": null,
            "overflow_y": null,
            "padding": null,
            "right": null,
            "top": null,
            "visibility": null,
            "width": null
          }
        },
        "716952e5953c41979a6de53279b02270": {
          "model_module": "@jupyter-widgets/controls",
          "model_name": "DescriptionStyleModel",
          "model_module_version": "1.5.0",
          "state": {
            "_model_module": "@jupyter-widgets/controls",
            "_model_module_version": "1.5.0",
            "_model_name": "DescriptionStyleModel",
            "_view_count": null,
            "_view_module": "@jupyter-widgets/base",
            "_view_module_version": "1.2.0",
            "_view_name": "StyleView",
            "description_width": ""
          }
        },
        "64c04111f51f43f4ae449faf2914315e": {
          "model_module": "@jupyter-widgets/controls",
          "model_name": "HBoxModel",
          "model_module_version": "1.5.0",
          "state": {
            "_dom_classes": [],
            "_model_module": "@jupyter-widgets/controls",
            "_model_module_version": "1.5.0",
            "_model_name": "HBoxModel",
            "_view_count": null,
            "_view_module": "@jupyter-widgets/controls",
            "_view_module_version": "1.5.0",
            "_view_name": "HBoxView",
            "box_style": "",
            "children": [
              "IPY_MODEL_5ef075740b844a248983a1ba6cf28d84",
              "IPY_MODEL_7d118d5c495e40e5b6dd5130e5f0a76e",
              "IPY_MODEL_f2b1b261073946e9b6c2257627cbb02f"
            ],
            "layout": "IPY_MODEL_904d528ef27541d296fcf4a1ce026461"
          }
        },
        "5ef075740b844a248983a1ba6cf28d84": {
          "model_module": "@jupyter-widgets/controls",
          "model_name": "HTMLModel",
          "model_module_version": "1.5.0",
          "state": {
            "_dom_classes": [],
            "_model_module": "@jupyter-widgets/controls",
            "_model_module_version": "1.5.0",
            "_model_name": "HTMLModel",
            "_view_count": null,
            "_view_module": "@jupyter-widgets/controls",
            "_view_module_version": "1.5.0",
            "_view_name": "HTMLView",
            "description": "",
            "description_tooltip": null,
            "layout": "IPY_MODEL_fb7b0dfd38c745668d90c0ec3dc5ff9a",
            "placeholder": "​",
            "style": "IPY_MODEL_0c392ff6cd1a461481a445aeed7e2638",
            "value": "Shuffling /root/tensorflow_datasets/imdb_reviews/plain_text/1.0.0.incompleteMNFSHR/imdb_reviews-train.tfrecord*...:  56%"
          }
        },
        "7d118d5c495e40e5b6dd5130e5f0a76e": {
          "model_module": "@jupyter-widgets/controls",
          "model_name": "FloatProgressModel",
          "model_module_version": "1.5.0",
          "state": {
            "_dom_classes": [],
            "_model_module": "@jupyter-widgets/controls",
            "_model_module_version": "1.5.0",
            "_model_name": "FloatProgressModel",
            "_view_count": null,
            "_view_module": "@jupyter-widgets/controls",
            "_view_module_version": "1.5.0",
            "_view_name": "ProgressView",
            "bar_style": "",
            "description": "",
            "description_tooltip": null,
            "layout": "IPY_MODEL_b987cc30165b4242b55d4ea709860e37",
            "max": 25000,
            "min": 0,
            "orientation": "horizontal",
            "style": "IPY_MODEL_ceb01604d55144269161facc7177e6bb",
            "value": 25000
          }
        },
        "f2b1b261073946e9b6c2257627cbb02f": {
          "model_module": "@jupyter-widgets/controls",
          "model_name": "HTMLModel",
          "model_module_version": "1.5.0",
          "state": {
            "_dom_classes": [],
            "_model_module": "@jupyter-widgets/controls",
            "_model_module_version": "1.5.0",
            "_model_name": "HTMLModel",
            "_view_count": null,
            "_view_module": "@jupyter-widgets/controls",
            "_view_module_version": "1.5.0",
            "_view_name": "HTMLView",
            "description": "",
            "description_tooltip": null,
            "layout": "IPY_MODEL_ab5aecccc3a84d119e36790cbfc31153",
            "placeholder": "​",
            "style": "IPY_MODEL_7443b03826bc4462806ddbddb7994d76",
            "value": " 14068/25000 [00:00&lt;00:00, 140668.40 examples/s]"
          }
        },
        "904d528ef27541d296fcf4a1ce026461": {
          "model_module": "@jupyter-widgets/base",
          "model_name": "LayoutModel",
          "model_module_version": "1.2.0",
          "state": {
            "_model_module": "@jupyter-widgets/base",
            "_model_module_version": "1.2.0",
            "_model_name": "LayoutModel",
            "_view_count": null,
            "_view_module": "@jupyter-widgets/base",
            "_view_module_version": "1.2.0",
            "_view_name": "LayoutView",
            "align_content": null,
            "align_items": null,
            "align_self": null,
            "border": null,
            "bottom": null,
            "display": null,
            "flex": null,
            "flex_flow": null,
            "grid_area": null,
            "grid_auto_columns": null,
            "grid_auto_flow": null,
            "grid_auto_rows": null,
            "grid_column": null,
            "grid_gap": null,
            "grid_row": null,
            "grid_template_areas": null,
            "grid_template_columns": null,
            "grid_template_rows": null,
            "height": null,
            "justify_content": null,
            "justify_items": null,
            "left": null,
            "margin": null,
            "max_height": null,
            "max_width": null,
            "min_height": null,
            "min_width": null,
            "object_fit": null,
            "object_position": null,
            "order": null,
            "overflow": null,
            "overflow_x": null,
            "overflow_y": null,
            "padding": null,
            "right": null,
            "top": null,
            "visibility": "hidden",
            "width": null
          }
        },
        "fb7b0dfd38c745668d90c0ec3dc5ff9a": {
          "model_module": "@jupyter-widgets/base",
          "model_name": "LayoutModel",
          "model_module_version": "1.2.0",
          "state": {
            "_model_module": "@jupyter-widgets/base",
            "_model_module_version": "1.2.0",
            "_model_name": "LayoutModel",
            "_view_count": null,
            "_view_module": "@jupyter-widgets/base",
            "_view_module_version": "1.2.0",
            "_view_name": "LayoutView",
            "align_content": null,
            "align_items": null,
            "align_self": null,
            "border": null,
            "bottom": null,
            "display": null,
            "flex": null,
            "flex_flow": null,
            "grid_area": null,
            "grid_auto_columns": null,
            "grid_auto_flow": null,
            "grid_auto_rows": null,
            "grid_column": null,
            "grid_gap": null,
            "grid_row": null,
            "grid_template_areas": null,
            "grid_template_columns": null,
            "grid_template_rows": null,
            "height": null,
            "justify_content": null,
            "justify_items": null,
            "left": null,
            "margin": null,
            "max_height": null,
            "max_width": null,
            "min_height": null,
            "min_width": null,
            "object_fit": null,
            "object_position": null,
            "order": null,
            "overflow": null,
            "overflow_x": null,
            "overflow_y": null,
            "padding": null,
            "right": null,
            "top": null,
            "visibility": null,
            "width": null
          }
        },
        "0c392ff6cd1a461481a445aeed7e2638": {
          "model_module": "@jupyter-widgets/controls",
          "model_name": "DescriptionStyleModel",
          "model_module_version": "1.5.0",
          "state": {
            "_model_module": "@jupyter-widgets/controls",
            "_model_module_version": "1.5.0",
            "_model_name": "DescriptionStyleModel",
            "_view_count": null,
            "_view_module": "@jupyter-widgets/base",
            "_view_module_version": "1.2.0",
            "_view_name": "StyleView",
            "description_width": ""
          }
        },
        "b987cc30165b4242b55d4ea709860e37": {
          "model_module": "@jupyter-widgets/base",
          "model_name": "LayoutModel",
          "model_module_version": "1.2.0",
          "state": {
            "_model_module": "@jupyter-widgets/base",
            "_model_module_version": "1.2.0",
            "_model_name": "LayoutModel",
            "_view_count": null,
            "_view_module": "@jupyter-widgets/base",
            "_view_module_version": "1.2.0",
            "_view_name": "LayoutView",
            "align_content": null,
            "align_items": null,
            "align_self": null,
            "border": null,
            "bottom": null,
            "display": null,
            "flex": null,
            "flex_flow": null,
            "grid_area": null,
            "grid_auto_columns": null,
            "grid_auto_flow": null,
            "grid_auto_rows": null,
            "grid_column": null,
            "grid_gap": null,
            "grid_row": null,
            "grid_template_areas": null,
            "grid_template_columns": null,
            "grid_template_rows": null,
            "height": null,
            "justify_content": null,
            "justify_items": null,
            "left": null,
            "margin": null,
            "max_height": null,
            "max_width": null,
            "min_height": null,
            "min_width": null,
            "object_fit": null,
            "object_position": null,
            "order": null,
            "overflow": null,
            "overflow_x": null,
            "overflow_y": null,
            "padding": null,
            "right": null,
            "top": null,
            "visibility": null,
            "width": null
          }
        },
        "ceb01604d55144269161facc7177e6bb": {
          "model_module": "@jupyter-widgets/controls",
          "model_name": "ProgressStyleModel",
          "model_module_version": "1.5.0",
          "state": {
            "_model_module": "@jupyter-widgets/controls",
            "_model_module_version": "1.5.0",
            "_model_name": "ProgressStyleModel",
            "_view_count": null,
            "_view_module": "@jupyter-widgets/base",
            "_view_module_version": "1.2.0",
            "_view_name": "StyleView",
            "bar_color": null,
            "description_width": ""
          }
        },
        "ab5aecccc3a84d119e36790cbfc31153": {
          "model_module": "@jupyter-widgets/base",
          "model_name": "LayoutModel",
          "model_module_version": "1.2.0",
          "state": {
            "_model_module": "@jupyter-widgets/base",
            "_model_module_version": "1.2.0",
            "_model_name": "LayoutModel",
            "_view_count": null,
            "_view_module": "@jupyter-widgets/base",
            "_view_module_version": "1.2.0",
            "_view_name": "LayoutView",
            "align_content": null,
            "align_items": null,
            "align_self": null,
            "border": null,
            "bottom": null,
            "display": null,
            "flex": null,
            "flex_flow": null,
            "grid_area": null,
            "grid_auto_columns": null,
            "grid_auto_flow": null,
            "grid_auto_rows": null,
            "grid_column": null,
            "grid_gap": null,
            "grid_row": null,
            "grid_template_areas": null,
            "grid_template_columns": null,
            "grid_template_rows": null,
            "height": null,
            "justify_content": null,
            "justify_items": null,
            "left": null,
            "margin": null,
            "max_height": null,
            "max_width": null,
            "min_height": null,
            "min_width": null,
            "object_fit": null,
            "object_position": null,
            "order": null,
            "overflow": null,
            "overflow_x": null,
            "overflow_y": null,
            "padding": null,
            "right": null,
            "top": null,
            "visibility": null,
            "width": null
          }
        },
        "7443b03826bc4462806ddbddb7994d76": {
          "model_module": "@jupyter-widgets/controls",
          "model_name": "DescriptionStyleModel",
          "model_module_version": "1.5.0",
          "state": {
            "_model_module": "@jupyter-widgets/controls",
            "_model_module_version": "1.5.0",
            "_model_name": "DescriptionStyleModel",
            "_view_count": null,
            "_view_module": "@jupyter-widgets/base",
            "_view_module_version": "1.2.0",
            "_view_name": "StyleView",
            "description_width": ""
          }
        },
        "60be25899c43458eada0b25a1c09b1f0": {
          "model_module": "@jupyter-widgets/controls",
          "model_name": "HBoxModel",
          "model_module_version": "1.5.0",
          "state": {
            "_dom_classes": [],
            "_model_module": "@jupyter-widgets/controls",
            "_model_module_version": "1.5.0",
            "_model_name": "HBoxModel",
            "_view_count": null,
            "_view_module": "@jupyter-widgets/controls",
            "_view_module_version": "1.5.0",
            "_view_name": "HBoxView",
            "box_style": "",
            "children": [
              "IPY_MODEL_109953410e2045ef8fd3a6e2228f4b5e",
              "IPY_MODEL_f3810c699c7a4e79ade83111cd86e6e2",
              "IPY_MODEL_1ab63c1ce3844b118d0cb704655678d7"
            ],
            "layout": "IPY_MODEL_0dccfd306aa24263aa93aad6c33ecd4b"
          }
        },
        "109953410e2045ef8fd3a6e2228f4b5e": {
          "model_module": "@jupyter-widgets/controls",
          "model_name": "HTMLModel",
          "model_module_version": "1.5.0",
          "state": {
            "_dom_classes": [],
            "_model_module": "@jupyter-widgets/controls",
            "_model_module_version": "1.5.0",
            "_model_name": "HTMLModel",
            "_view_count": null,
            "_view_module": "@jupyter-widgets/controls",
            "_view_module_version": "1.5.0",
            "_view_name": "HTMLView",
            "description": "",
            "description_tooltip": null,
            "layout": "IPY_MODEL_ddfa71ea3e834ed6aeb24e025f90e3d2",
            "placeholder": "​",
            "style": "IPY_MODEL_6ca8416865e44603b0dcfb64d7970c22",
            "value": "Generating test examples...:  80%"
          }
        },
        "f3810c699c7a4e79ade83111cd86e6e2": {
          "model_module": "@jupyter-widgets/controls",
          "model_name": "FloatProgressModel",
          "model_module_version": "1.5.0",
          "state": {
            "_dom_classes": [],
            "_model_module": "@jupyter-widgets/controls",
            "_model_module_version": "1.5.0",
            "_model_name": "FloatProgressModel",
            "_view_count": null,
            "_view_module": "@jupyter-widgets/controls",
            "_view_module_version": "1.5.0",
            "_view_name": "ProgressView",
            "bar_style": "",
            "description": "",
            "description_tooltip": null,
            "layout": "IPY_MODEL_8ef594effe1c45e790a052382d761d07",
            "max": 25000,
            "min": 0,
            "orientation": "horizontal",
            "style": "IPY_MODEL_942b436ba73f4e0c9c9678cc8b1f3f90",
            "value": 25000
          }
        },
        "1ab63c1ce3844b118d0cb704655678d7": {
          "model_module": "@jupyter-widgets/controls",
          "model_name": "HTMLModel",
          "model_module_version": "1.5.0",
          "state": {
            "_dom_classes": [],
            "_model_module": "@jupyter-widgets/controls",
            "_model_module_version": "1.5.0",
            "_model_name": "HTMLModel",
            "_view_count": null,
            "_view_module": "@jupyter-widgets/controls",
            "_view_module_version": "1.5.0",
            "_view_name": "HTMLView",
            "description": "",
            "description_tooltip": null,
            "layout": "IPY_MODEL_8414fdc4ac4d4562ae4e5463a2499f8c",
            "placeholder": "​",
            "style": "IPY_MODEL_c0013db4214842bb96b1fbead40729cb",
            "value": " 19970/25000 [00:04&lt;00:00, 5370.40 examples/s]"
          }
        },
        "0dccfd306aa24263aa93aad6c33ecd4b": {
          "model_module": "@jupyter-widgets/base",
          "model_name": "LayoutModel",
          "model_module_version": "1.2.0",
          "state": {
            "_model_module": "@jupyter-widgets/base",
            "_model_module_version": "1.2.0",
            "_model_name": "LayoutModel",
            "_view_count": null,
            "_view_module": "@jupyter-widgets/base",
            "_view_module_version": "1.2.0",
            "_view_name": "LayoutView",
            "align_content": null,
            "align_items": null,
            "align_self": null,
            "border": null,
            "bottom": null,
            "display": null,
            "flex": null,
            "flex_flow": null,
            "grid_area": null,
            "grid_auto_columns": null,
            "grid_auto_flow": null,
            "grid_auto_rows": null,
            "grid_column": null,
            "grid_gap": null,
            "grid_row": null,
            "grid_template_areas": null,
            "grid_template_columns": null,
            "grid_template_rows": null,
            "height": null,
            "justify_content": null,
            "justify_items": null,
            "left": null,
            "margin": null,
            "max_height": null,
            "max_width": null,
            "min_height": null,
            "min_width": null,
            "object_fit": null,
            "object_position": null,
            "order": null,
            "overflow": null,
            "overflow_x": null,
            "overflow_y": null,
            "padding": null,
            "right": null,
            "top": null,
            "visibility": "hidden",
            "width": null
          }
        },
        "ddfa71ea3e834ed6aeb24e025f90e3d2": {
          "model_module": "@jupyter-widgets/base",
          "model_name": "LayoutModel",
          "model_module_version": "1.2.0",
          "state": {
            "_model_module": "@jupyter-widgets/base",
            "_model_module_version": "1.2.0",
            "_model_name": "LayoutModel",
            "_view_count": null,
            "_view_module": "@jupyter-widgets/base",
            "_view_module_version": "1.2.0",
            "_view_name": "LayoutView",
            "align_content": null,
            "align_items": null,
            "align_self": null,
            "border": null,
            "bottom": null,
            "display": null,
            "flex": null,
            "flex_flow": null,
            "grid_area": null,
            "grid_auto_columns": null,
            "grid_auto_flow": null,
            "grid_auto_rows": null,
            "grid_column": null,
            "grid_gap": null,
            "grid_row": null,
            "grid_template_areas": null,
            "grid_template_columns": null,
            "grid_template_rows": null,
            "height": null,
            "justify_content": null,
            "justify_items": null,
            "left": null,
            "margin": null,
            "max_height": null,
            "max_width": null,
            "min_height": null,
            "min_width": null,
            "object_fit": null,
            "object_position": null,
            "order": null,
            "overflow": null,
            "overflow_x": null,
            "overflow_y": null,
            "padding": null,
            "right": null,
            "top": null,
            "visibility": null,
            "width": null
          }
        },
        "6ca8416865e44603b0dcfb64d7970c22": {
          "model_module": "@jupyter-widgets/controls",
          "model_name": "DescriptionStyleModel",
          "model_module_version": "1.5.0",
          "state": {
            "_model_module": "@jupyter-widgets/controls",
            "_model_module_version": "1.5.0",
            "_model_name": "DescriptionStyleModel",
            "_view_count": null,
            "_view_module": "@jupyter-widgets/base",
            "_view_module_version": "1.2.0",
            "_view_name": "StyleView",
            "description_width": ""
          }
        },
        "8ef594effe1c45e790a052382d761d07": {
          "model_module": "@jupyter-widgets/base",
          "model_name": "LayoutModel",
          "model_module_version": "1.2.0",
          "state": {
            "_model_module": "@jupyter-widgets/base",
            "_model_module_version": "1.2.0",
            "_model_name": "LayoutModel",
            "_view_count": null,
            "_view_module": "@jupyter-widgets/base",
            "_view_module_version": "1.2.0",
            "_view_name": "LayoutView",
            "align_content": null,
            "align_items": null,
            "align_self": null,
            "border": null,
            "bottom": null,
            "display": null,
            "flex": null,
            "flex_flow": null,
            "grid_area": null,
            "grid_auto_columns": null,
            "grid_auto_flow": null,
            "grid_auto_rows": null,
            "grid_column": null,
            "grid_gap": null,
            "grid_row": null,
            "grid_template_areas": null,
            "grid_template_columns": null,
            "grid_template_rows": null,
            "height": null,
            "justify_content": null,
            "justify_items": null,
            "left": null,
            "margin": null,
            "max_height": null,
            "max_width": null,
            "min_height": null,
            "min_width": null,
            "object_fit": null,
            "object_position": null,
            "order": null,
            "overflow": null,
            "overflow_x": null,
            "overflow_y": null,
            "padding": null,
            "right": null,
            "top": null,
            "visibility": null,
            "width": null
          }
        },
        "942b436ba73f4e0c9c9678cc8b1f3f90": {
          "model_module": "@jupyter-widgets/controls",
          "model_name": "ProgressStyleModel",
          "model_module_version": "1.5.0",
          "state": {
            "_model_module": "@jupyter-widgets/controls",
            "_model_module_version": "1.5.0",
            "_model_name": "ProgressStyleModel",
            "_view_count": null,
            "_view_module": "@jupyter-widgets/base",
            "_view_module_version": "1.2.0",
            "_view_name": "StyleView",
            "bar_color": null,
            "description_width": ""
          }
        },
        "8414fdc4ac4d4562ae4e5463a2499f8c": {
          "model_module": "@jupyter-widgets/base",
          "model_name": "LayoutModel",
          "model_module_version": "1.2.0",
          "state": {
            "_model_module": "@jupyter-widgets/base",
            "_model_module_version": "1.2.0",
            "_model_name": "LayoutModel",
            "_view_count": null,
            "_view_module": "@jupyter-widgets/base",
            "_view_module_version": "1.2.0",
            "_view_name": "LayoutView",
            "align_content": null,
            "align_items": null,
            "align_self": null,
            "border": null,
            "bottom": null,
            "display": null,
            "flex": null,
            "flex_flow": null,
            "grid_area": null,
            "grid_auto_columns": null,
            "grid_auto_flow": null,
            "grid_auto_rows": null,
            "grid_column": null,
            "grid_gap": null,
            "grid_row": null,
            "grid_template_areas": null,
            "grid_template_columns": null,
            "grid_template_rows": null,
            "height": null,
            "justify_content": null,
            "justify_items": null,
            "left": null,
            "margin": null,
            "max_height": null,
            "max_width": null,
            "min_height": null,
            "min_width": null,
            "object_fit": null,
            "object_position": null,
            "order": null,
            "overflow": null,
            "overflow_x": null,
            "overflow_y": null,
            "padding": null,
            "right": null,
            "top": null,
            "visibility": null,
            "width": null
          }
        },
        "c0013db4214842bb96b1fbead40729cb": {
          "model_module": "@jupyter-widgets/controls",
          "model_name": "DescriptionStyleModel",
          "model_module_version": "1.5.0",
          "state": {
            "_model_module": "@jupyter-widgets/controls",
            "_model_module_version": "1.5.0",
            "_model_name": "DescriptionStyleModel",
            "_view_count": null,
            "_view_module": "@jupyter-widgets/base",
            "_view_module_version": "1.2.0",
            "_view_name": "StyleView",
            "description_width": ""
          }
        },
        "1a48ba2c097b4874ac0d61224cf836ea": {
          "model_module": "@jupyter-widgets/controls",
          "model_name": "HBoxModel",
          "model_module_version": "1.5.0",
          "state": {
            "_dom_classes": [],
            "_model_module": "@jupyter-widgets/controls",
            "_model_module_version": "1.5.0",
            "_model_name": "HBoxModel",
            "_view_count": null,
            "_view_module": "@jupyter-widgets/controls",
            "_view_module_version": "1.5.0",
            "_view_name": "HBoxView",
            "box_style": "",
            "children": [
              "IPY_MODEL_cba393b5eadd480c92718da73b06bbfd",
              "IPY_MODEL_04f87391dd3f4b5c8b0594fa523d7a69",
              "IPY_MODEL_871baa21a74b4590a865dca4aa034e47"
            ],
            "layout": "IPY_MODEL_d4365f3c3fd64ef0b9e875b85d9d7241"
          }
        },
        "cba393b5eadd480c92718da73b06bbfd": {
          "model_module": "@jupyter-widgets/controls",
          "model_name": "HTMLModel",
          "model_module_version": "1.5.0",
          "state": {
            "_dom_classes": [],
            "_model_module": "@jupyter-widgets/controls",
            "_model_module_version": "1.5.0",
            "_model_name": "HTMLModel",
            "_view_count": null,
            "_view_module": "@jupyter-widgets/controls",
            "_view_module_version": "1.5.0",
            "_view_name": "HTMLView",
            "description": "",
            "description_tooltip": null,
            "layout": "IPY_MODEL_c1276ec942fd4e49b9c4d0db28f39cbe",
            "placeholder": "​",
            "style": "IPY_MODEL_6265ebaea67245c5ad474c70e0108fe5",
            "value": "Shuffling /root/tensorflow_datasets/imdb_reviews/plain_text/1.0.0.incompleteMNFSHR/imdb_reviews-test.tfrecord*...:  80%"
          }
        },
        "04f87391dd3f4b5c8b0594fa523d7a69": {
          "model_module": "@jupyter-widgets/controls",
          "model_name": "FloatProgressModel",
          "model_module_version": "1.5.0",
          "state": {
            "_dom_classes": [],
            "_model_module": "@jupyter-widgets/controls",
            "_model_module_version": "1.5.0",
            "_model_name": "FloatProgressModel",
            "_view_count": null,
            "_view_module": "@jupyter-widgets/controls",
            "_view_module_version": "1.5.0",
            "_view_name": "ProgressView",
            "bar_style": "",
            "description": "",
            "description_tooltip": null,
            "layout": "IPY_MODEL_4f86328cc2cc44b6bb6cbcf763f074ca",
            "max": 25000,
            "min": 0,
            "orientation": "horizontal",
            "style": "IPY_MODEL_4746d61abef640f6b2fe08058815e054",
            "value": 25000
          }
        },
        "871baa21a74b4590a865dca4aa034e47": {
          "model_module": "@jupyter-widgets/controls",
          "model_name": "HTMLModel",
          "model_module_version": "1.5.0",
          "state": {
            "_dom_classes": [],
            "_model_module": "@jupyter-widgets/controls",
            "_model_module_version": "1.5.0",
            "_model_name": "HTMLModel",
            "_view_count": null,
            "_view_module": "@jupyter-widgets/controls",
            "_view_module_version": "1.5.0",
            "_view_name": "HTMLView",
            "description": "",
            "description_tooltip": null,
            "layout": "IPY_MODEL_11f8bef8795b4103b15e7be0b5930f44",
            "placeholder": "​",
            "style": "IPY_MODEL_dd22d427288a4c309711052826cc9f09",
            "value": " 19955/25000 [00:00&lt;00:00, 105863.15 examples/s]"
          }
        },
        "d4365f3c3fd64ef0b9e875b85d9d7241": {
          "model_module": "@jupyter-widgets/base",
          "model_name": "LayoutModel",
          "model_module_version": "1.2.0",
          "state": {
            "_model_module": "@jupyter-widgets/base",
            "_model_module_version": "1.2.0",
            "_model_name": "LayoutModel",
            "_view_count": null,
            "_view_module": "@jupyter-widgets/base",
            "_view_module_version": "1.2.0",
            "_view_name": "LayoutView",
            "align_content": null,
            "align_items": null,
            "align_self": null,
            "border": null,
            "bottom": null,
            "display": null,
            "flex": null,
            "flex_flow": null,
            "grid_area": null,
            "grid_auto_columns": null,
            "grid_auto_flow": null,
            "grid_auto_rows": null,
            "grid_column": null,
            "grid_gap": null,
            "grid_row": null,
            "grid_template_areas": null,
            "grid_template_columns": null,
            "grid_template_rows": null,
            "height": null,
            "justify_content": null,
            "justify_items": null,
            "left": null,
            "margin": null,
            "max_height": null,
            "max_width": null,
            "min_height": null,
            "min_width": null,
            "object_fit": null,
            "object_position": null,
            "order": null,
            "overflow": null,
            "overflow_x": null,
            "overflow_y": null,
            "padding": null,
            "right": null,
            "top": null,
            "visibility": "hidden",
            "width": null
          }
        },
        "c1276ec942fd4e49b9c4d0db28f39cbe": {
          "model_module": "@jupyter-widgets/base",
          "model_name": "LayoutModel",
          "model_module_version": "1.2.0",
          "state": {
            "_model_module": "@jupyter-widgets/base",
            "_model_module_version": "1.2.0",
            "_model_name": "LayoutModel",
            "_view_count": null,
            "_view_module": "@jupyter-widgets/base",
            "_view_module_version": "1.2.0",
            "_view_name": "LayoutView",
            "align_content": null,
            "align_items": null,
            "align_self": null,
            "border": null,
            "bottom": null,
            "display": null,
            "flex": null,
            "flex_flow": null,
            "grid_area": null,
            "grid_auto_columns": null,
            "grid_auto_flow": null,
            "grid_auto_rows": null,
            "grid_column": null,
            "grid_gap": null,
            "grid_row": null,
            "grid_template_areas": null,
            "grid_template_columns": null,
            "grid_template_rows": null,
            "height": null,
            "justify_content": null,
            "justify_items": null,
            "left": null,
            "margin": null,
            "max_height": null,
            "max_width": null,
            "min_height": null,
            "min_width": null,
            "object_fit": null,
            "object_position": null,
            "order": null,
            "overflow": null,
            "overflow_x": null,
            "overflow_y": null,
            "padding": null,
            "right": null,
            "top": null,
            "visibility": null,
            "width": null
          }
        },
        "6265ebaea67245c5ad474c70e0108fe5": {
          "model_module": "@jupyter-widgets/controls",
          "model_name": "DescriptionStyleModel",
          "model_module_version": "1.5.0",
          "state": {
            "_model_module": "@jupyter-widgets/controls",
            "_model_module_version": "1.5.0",
            "_model_name": "DescriptionStyleModel",
            "_view_count": null,
            "_view_module": "@jupyter-widgets/base",
            "_view_module_version": "1.2.0",
            "_view_name": "StyleView",
            "description_width": ""
          }
        },
        "4f86328cc2cc44b6bb6cbcf763f074ca": {
          "model_module": "@jupyter-widgets/base",
          "model_name": "LayoutModel",
          "model_module_version": "1.2.0",
          "state": {
            "_model_module": "@jupyter-widgets/base",
            "_model_module_version": "1.2.0",
            "_model_name": "LayoutModel",
            "_view_count": null,
            "_view_module": "@jupyter-widgets/base",
            "_view_module_version": "1.2.0",
            "_view_name": "LayoutView",
            "align_content": null,
            "align_items": null,
            "align_self": null,
            "border": null,
            "bottom": null,
            "display": null,
            "flex": null,
            "flex_flow": null,
            "grid_area": null,
            "grid_auto_columns": null,
            "grid_auto_flow": null,
            "grid_auto_rows": null,
            "grid_column": null,
            "grid_gap": null,
            "grid_row": null,
            "grid_template_areas": null,
            "grid_template_columns": null,
            "grid_template_rows": null,
            "height": null,
            "justify_content": null,
            "justify_items": null,
            "left": null,
            "margin": null,
            "max_height": null,
            "max_width": null,
            "min_height": null,
            "min_width": null,
            "object_fit": null,
            "object_position": null,
            "order": null,
            "overflow": null,
            "overflow_x": null,
            "overflow_y": null,
            "padding": null,
            "right": null,
            "top": null,
            "visibility": null,
            "width": null
          }
        },
        "4746d61abef640f6b2fe08058815e054": {
          "model_module": "@jupyter-widgets/controls",
          "model_name": "ProgressStyleModel",
          "model_module_version": "1.5.0",
          "state": {
            "_model_module": "@jupyter-widgets/controls",
            "_model_module_version": "1.5.0",
            "_model_name": "ProgressStyleModel",
            "_view_count": null,
            "_view_module": "@jupyter-widgets/base",
            "_view_module_version": "1.2.0",
            "_view_name": "StyleView",
            "bar_color": null,
            "description_width": ""
          }
        },
        "11f8bef8795b4103b15e7be0b5930f44": {
          "model_module": "@jupyter-widgets/base",
          "model_name": "LayoutModel",
          "model_module_version": "1.2.0",
          "state": {
            "_model_module": "@jupyter-widgets/base",
            "_model_module_version": "1.2.0",
            "_model_name": "LayoutModel",
            "_view_count": null,
            "_view_module": "@jupyter-widgets/base",
            "_view_module_version": "1.2.0",
            "_view_name": "LayoutView",
            "align_content": null,
            "align_items": null,
            "align_self": null,
            "border": null,
            "bottom": null,
            "display": null,
            "flex": null,
            "flex_flow": null,
            "grid_area": null,
            "grid_auto_columns": null,
            "grid_auto_flow": null,
            "grid_auto_rows": null,
            "grid_column": null,
            "grid_gap": null,
            "grid_row": null,
            "grid_template_areas": null,
            "grid_template_columns": null,
            "grid_template_rows": null,
            "height": null,
            "justify_content": null,
            "justify_items": null,
            "left": null,
            "margin": null,
            "max_height": null,
            "max_width": null,
            "min_height": null,
            "min_width": null,
            "object_fit": null,
            "object_position": null,
            "order": null,
            "overflow": null,
            "overflow_x": null,
            "overflow_y": null,
            "padding": null,
            "right": null,
            "top": null,
            "visibility": null,
            "width": null
          }
        },
        "dd22d427288a4c309711052826cc9f09": {
          "model_module": "@jupyter-widgets/controls",
          "model_name": "DescriptionStyleModel",
          "model_module_version": "1.5.0",
          "state": {
            "_model_module": "@jupyter-widgets/controls",
            "_model_module_version": "1.5.0",
            "_model_name": "DescriptionStyleModel",
            "_view_count": null,
            "_view_module": "@jupyter-widgets/base",
            "_view_module_version": "1.2.0",
            "_view_name": "StyleView",
            "description_width": ""
          }
        },
        "35f90c3e23d74678b50e907d095baff0": {
          "model_module": "@jupyter-widgets/controls",
          "model_name": "HBoxModel",
          "model_module_version": "1.5.0",
          "state": {
            "_dom_classes": [],
            "_model_module": "@jupyter-widgets/controls",
            "_model_module_version": "1.5.0",
            "_model_name": "HBoxModel",
            "_view_count": null,
            "_view_module": "@jupyter-widgets/controls",
            "_view_module_version": "1.5.0",
            "_view_name": "HBoxView",
            "box_style": "",
            "children": [
              "IPY_MODEL_5211b528dad14ec5a5fdaf5dc768e79a",
              "IPY_MODEL_25fa680f7a9a460cae2da8553e9d50ba",
              "IPY_MODEL_b847e9e034234794ad566542d6a27ba3"
            ],
            "layout": "IPY_MODEL_df444355865e4946b6b5b8958c02bb66"
          }
        },
        "5211b528dad14ec5a5fdaf5dc768e79a": {
          "model_module": "@jupyter-widgets/controls",
          "model_name": "HTMLModel",
          "model_module_version": "1.5.0",
          "state": {
            "_dom_classes": [],
            "_model_module": "@jupyter-widgets/controls",
            "_model_module_version": "1.5.0",
            "_model_name": "HTMLModel",
            "_view_count": null,
            "_view_module": "@jupyter-widgets/controls",
            "_view_module_version": "1.5.0",
            "_view_name": "HTMLView",
            "description": "",
            "description_tooltip": null,
            "layout": "IPY_MODEL_dd2655787de44aafb40460c711a5cdcf",
            "placeholder": "​",
            "style": "IPY_MODEL_cf3e3336626745129f28d742e2bc4aac",
            "value": "Generating unsupervised examples...:  90%"
          }
        },
        "25fa680f7a9a460cae2da8553e9d50ba": {
          "model_module": "@jupyter-widgets/controls",
          "model_name": "FloatProgressModel",
          "model_module_version": "1.5.0",
          "state": {
            "_dom_classes": [],
            "_model_module": "@jupyter-widgets/controls",
            "_model_module_version": "1.5.0",
            "_model_name": "FloatProgressModel",
            "_view_count": null,
            "_view_module": "@jupyter-widgets/controls",
            "_view_module_version": "1.5.0",
            "_view_name": "ProgressView",
            "bar_style": "",
            "description": "",
            "description_tooltip": null,
            "layout": "IPY_MODEL_fbd0be5c724040759b5b4edf889cc553",
            "max": 50000,
            "min": 0,
            "orientation": "horizontal",
            "style": "IPY_MODEL_f00739a3d2934ac9ab54c5cee16a7a58",
            "value": 50000
          }
        },
        "b847e9e034234794ad566542d6a27ba3": {
          "model_module": "@jupyter-widgets/controls",
          "model_name": "HTMLModel",
          "model_module_version": "1.5.0",
          "state": {
            "_dom_classes": [],
            "_model_module": "@jupyter-widgets/controls",
            "_model_module_version": "1.5.0",
            "_model_name": "HTMLModel",
            "_view_count": null,
            "_view_module": "@jupyter-widgets/controls",
            "_view_module_version": "1.5.0",
            "_view_name": "HTMLView",
            "description": "",
            "description_tooltip": null,
            "layout": "IPY_MODEL_6a80a07910c247598ef0ebb24a93fc3f",
            "placeholder": "​",
            "style": "IPY_MODEL_df52698ebce94e59831fbf5f955a2239",
            "value": " 44907/50000 [00:13&lt;00:01, 4666.19 examples/s]"
          }
        },
        "df444355865e4946b6b5b8958c02bb66": {
          "model_module": "@jupyter-widgets/base",
          "model_name": "LayoutModel",
          "model_module_version": "1.2.0",
          "state": {
            "_model_module": "@jupyter-widgets/base",
            "_model_module_version": "1.2.0",
            "_model_name": "LayoutModel",
            "_view_count": null,
            "_view_module": "@jupyter-widgets/base",
            "_view_module_version": "1.2.0",
            "_view_name": "LayoutView",
            "align_content": null,
            "align_items": null,
            "align_self": null,
            "border": null,
            "bottom": null,
            "display": null,
            "flex": null,
            "flex_flow": null,
            "grid_area": null,
            "grid_auto_columns": null,
            "grid_auto_flow": null,
            "grid_auto_rows": null,
            "grid_column": null,
            "grid_gap": null,
            "grid_row": null,
            "grid_template_areas": null,
            "grid_template_columns": null,
            "grid_template_rows": null,
            "height": null,
            "justify_content": null,
            "justify_items": null,
            "left": null,
            "margin": null,
            "max_height": null,
            "max_width": null,
            "min_height": null,
            "min_width": null,
            "object_fit": null,
            "object_position": null,
            "order": null,
            "overflow": null,
            "overflow_x": null,
            "overflow_y": null,
            "padding": null,
            "right": null,
            "top": null,
            "visibility": "hidden",
            "width": null
          }
        },
        "dd2655787de44aafb40460c711a5cdcf": {
          "model_module": "@jupyter-widgets/base",
          "model_name": "LayoutModel",
          "model_module_version": "1.2.0",
          "state": {
            "_model_module": "@jupyter-widgets/base",
            "_model_module_version": "1.2.0",
            "_model_name": "LayoutModel",
            "_view_count": null,
            "_view_module": "@jupyter-widgets/base",
            "_view_module_version": "1.2.0",
            "_view_name": "LayoutView",
            "align_content": null,
            "align_items": null,
            "align_self": null,
            "border": null,
            "bottom": null,
            "display": null,
            "flex": null,
            "flex_flow": null,
            "grid_area": null,
            "grid_auto_columns": null,
            "grid_auto_flow": null,
            "grid_auto_rows": null,
            "grid_column": null,
            "grid_gap": null,
            "grid_row": null,
            "grid_template_areas": null,
            "grid_template_columns": null,
            "grid_template_rows": null,
            "height": null,
            "justify_content": null,
            "justify_items": null,
            "left": null,
            "margin": null,
            "max_height": null,
            "max_width": null,
            "min_height": null,
            "min_width": null,
            "object_fit": null,
            "object_position": null,
            "order": null,
            "overflow": null,
            "overflow_x": null,
            "overflow_y": null,
            "padding": null,
            "right": null,
            "top": null,
            "visibility": null,
            "width": null
          }
        },
        "cf3e3336626745129f28d742e2bc4aac": {
          "model_module": "@jupyter-widgets/controls",
          "model_name": "DescriptionStyleModel",
          "model_module_version": "1.5.0",
          "state": {
            "_model_module": "@jupyter-widgets/controls",
            "_model_module_version": "1.5.0",
            "_model_name": "DescriptionStyleModel",
            "_view_count": null,
            "_view_module": "@jupyter-widgets/base",
            "_view_module_version": "1.2.0",
            "_view_name": "StyleView",
            "description_width": ""
          }
        },
        "fbd0be5c724040759b5b4edf889cc553": {
          "model_module": "@jupyter-widgets/base",
          "model_name": "LayoutModel",
          "model_module_version": "1.2.0",
          "state": {
            "_model_module": "@jupyter-widgets/base",
            "_model_module_version": "1.2.0",
            "_model_name": "LayoutModel",
            "_view_count": null,
            "_view_module": "@jupyter-widgets/base",
            "_view_module_version": "1.2.0",
            "_view_name": "LayoutView",
            "align_content": null,
            "align_items": null,
            "align_self": null,
            "border": null,
            "bottom": null,
            "display": null,
            "flex": null,
            "flex_flow": null,
            "grid_area": null,
            "grid_auto_columns": null,
            "grid_auto_flow": null,
            "grid_auto_rows": null,
            "grid_column": null,
            "grid_gap": null,
            "grid_row": null,
            "grid_template_areas": null,
            "grid_template_columns": null,
            "grid_template_rows": null,
            "height": null,
            "justify_content": null,
            "justify_items": null,
            "left": null,
            "margin": null,
            "max_height": null,
            "max_width": null,
            "min_height": null,
            "min_width": null,
            "object_fit": null,
            "object_position": null,
            "order": null,
            "overflow": null,
            "overflow_x": null,
            "overflow_y": null,
            "padding": null,
            "right": null,
            "top": null,
            "visibility": null,
            "width": null
          }
        },
        "f00739a3d2934ac9ab54c5cee16a7a58": {
          "model_module": "@jupyter-widgets/controls",
          "model_name": "ProgressStyleModel",
          "model_module_version": "1.5.0",
          "state": {
            "_model_module": "@jupyter-widgets/controls",
            "_model_module_version": "1.5.0",
            "_model_name": "ProgressStyleModel",
            "_view_count": null,
            "_view_module": "@jupyter-widgets/base",
            "_view_module_version": "1.2.0",
            "_view_name": "StyleView",
            "bar_color": null,
            "description_width": ""
          }
        },
        "6a80a07910c247598ef0ebb24a93fc3f": {
          "model_module": "@jupyter-widgets/base",
          "model_name": "LayoutModel",
          "model_module_version": "1.2.0",
          "state": {
            "_model_module": "@jupyter-widgets/base",
            "_model_module_version": "1.2.0",
            "_model_name": "LayoutModel",
            "_view_count": null,
            "_view_module": "@jupyter-widgets/base",
            "_view_module_version": "1.2.0",
            "_view_name": "LayoutView",
            "align_content": null,
            "align_items": null,
            "align_self": null,
            "border": null,
            "bottom": null,
            "display": null,
            "flex": null,
            "flex_flow": null,
            "grid_area": null,
            "grid_auto_columns": null,
            "grid_auto_flow": null,
            "grid_auto_rows": null,
            "grid_column": null,
            "grid_gap": null,
            "grid_row": null,
            "grid_template_areas": null,
            "grid_template_columns": null,
            "grid_template_rows": null,
            "height": null,
            "justify_content": null,
            "justify_items": null,
            "left": null,
            "margin": null,
            "max_height": null,
            "max_width": null,
            "min_height": null,
            "min_width": null,
            "object_fit": null,
            "object_position": null,
            "order": null,
            "overflow": null,
            "overflow_x": null,
            "overflow_y": null,
            "padding": null,
            "right": null,
            "top": null,
            "visibility": null,
            "width": null
          }
        },
        "df52698ebce94e59831fbf5f955a2239": {
          "model_module": "@jupyter-widgets/controls",
          "model_name": "DescriptionStyleModel",
          "model_module_version": "1.5.0",
          "state": {
            "_model_module": "@jupyter-widgets/controls",
            "_model_module_version": "1.5.0",
            "_model_name": "DescriptionStyleModel",
            "_view_count": null,
            "_view_module": "@jupyter-widgets/base",
            "_view_module_version": "1.2.0",
            "_view_name": "StyleView",
            "description_width": ""
          }
        },
        "506910455efc4ab0803c7ffaa1313f76": {
          "model_module": "@jupyter-widgets/controls",
          "model_name": "HBoxModel",
          "model_module_version": "1.5.0",
          "state": {
            "_dom_classes": [],
            "_model_module": "@jupyter-widgets/controls",
            "_model_module_version": "1.5.0",
            "_model_name": "HBoxModel",
            "_view_count": null,
            "_view_module": "@jupyter-widgets/controls",
            "_view_module_version": "1.5.0",
            "_view_name": "HBoxView",
            "box_style": "",
            "children": [
              "IPY_MODEL_2092f229be424e6d89161562ef520102",
              "IPY_MODEL_82fcb8d60bb04a87895ca05e0e1094e6",
              "IPY_MODEL_1cdb7cb47e53473aa1b1170287b10e5b"
            ],
            "layout": "IPY_MODEL_18161d9aece344e7a78720c4d3443b6f"
          }
        },
        "2092f229be424e6d89161562ef520102": {
          "model_module": "@jupyter-widgets/controls",
          "model_name": "HTMLModel",
          "model_module_version": "1.5.0",
          "state": {
            "_dom_classes": [],
            "_model_module": "@jupyter-widgets/controls",
            "_model_module_version": "1.5.0",
            "_model_name": "HTMLModel",
            "_view_count": null,
            "_view_module": "@jupyter-widgets/controls",
            "_view_module_version": "1.5.0",
            "_view_name": "HTMLView",
            "description": "",
            "description_tooltip": null,
            "layout": "IPY_MODEL_f8a8e7fca03b4c29980306d2a225d66c",
            "placeholder": "​",
            "style": "IPY_MODEL_bb8819042bb34b63a1f1f3e8d03806fe",
            "value": "Shuffling /root/tensorflow_datasets/imdb_reviews/plain_text/1.0.0.incompleteMNFSHR/imdb_reviews-unsupervised.tfrecord*...:  69%"
          }
        },
        "82fcb8d60bb04a87895ca05e0e1094e6": {
          "model_module": "@jupyter-widgets/controls",
          "model_name": "FloatProgressModel",
          "model_module_version": "1.5.0",
          "state": {
            "_dom_classes": [],
            "_model_module": "@jupyter-widgets/controls",
            "_model_module_version": "1.5.0",
            "_model_name": "FloatProgressModel",
            "_view_count": null,
            "_view_module": "@jupyter-widgets/controls",
            "_view_module_version": "1.5.0",
            "_view_name": "ProgressView",
            "bar_style": "",
            "description": "",
            "description_tooltip": null,
            "layout": "IPY_MODEL_8a11ab9136564349a5605abe0161686b",
            "max": 50000,
            "min": 0,
            "orientation": "horizontal",
            "style": "IPY_MODEL_053baffd4735450cbed7f06541741c5c",
            "value": 50000
          }
        },
        "1cdb7cb47e53473aa1b1170287b10e5b": {
          "model_module": "@jupyter-widgets/controls",
          "model_name": "HTMLModel",
          "model_module_version": "1.5.0",
          "state": {
            "_dom_classes": [],
            "_model_module": "@jupyter-widgets/controls",
            "_model_module_version": "1.5.0",
            "_model_name": "HTMLModel",
            "_view_count": null,
            "_view_module": "@jupyter-widgets/controls",
            "_view_module_version": "1.5.0",
            "_view_name": "HTMLView",
            "description": "",
            "description_tooltip": null,
            "layout": "IPY_MODEL_55ad76090338498a808f24aeb815c35e",
            "placeholder": "​",
            "style": "IPY_MODEL_daf4d41af39048ae96ddc3da4057f765",
            "value": " 34351/50000 [00:00&lt;00:00, 185165.42 examples/s]"
          }
        },
        "18161d9aece344e7a78720c4d3443b6f": {
          "model_module": "@jupyter-widgets/base",
          "model_name": "LayoutModel",
          "model_module_version": "1.2.0",
          "state": {
            "_model_module": "@jupyter-widgets/base",
            "_model_module_version": "1.2.0",
            "_model_name": "LayoutModel",
            "_view_count": null,
            "_view_module": "@jupyter-widgets/base",
            "_view_module_version": "1.2.0",
            "_view_name": "LayoutView",
            "align_content": null,
            "align_items": null,
            "align_self": null,
            "border": null,
            "bottom": null,
            "display": null,
            "flex": null,
            "flex_flow": null,
            "grid_area": null,
            "grid_auto_columns": null,
            "grid_auto_flow": null,
            "grid_auto_rows": null,
            "grid_column": null,
            "grid_gap": null,
            "grid_row": null,
            "grid_template_areas": null,
            "grid_template_columns": null,
            "grid_template_rows": null,
            "height": null,
            "justify_content": null,
            "justify_items": null,
            "left": null,
            "margin": null,
            "max_height": null,
            "max_width": null,
            "min_height": null,
            "min_width": null,
            "object_fit": null,
            "object_position": null,
            "order": null,
            "overflow": null,
            "overflow_x": null,
            "overflow_y": null,
            "padding": null,
            "right": null,
            "top": null,
            "visibility": "hidden",
            "width": null
          }
        },
        "f8a8e7fca03b4c29980306d2a225d66c": {
          "model_module": "@jupyter-widgets/base",
          "model_name": "LayoutModel",
          "model_module_version": "1.2.0",
          "state": {
            "_model_module": "@jupyter-widgets/base",
            "_model_module_version": "1.2.0",
            "_model_name": "LayoutModel",
            "_view_count": null,
            "_view_module": "@jupyter-widgets/base",
            "_view_module_version": "1.2.0",
            "_view_name": "LayoutView",
            "align_content": null,
            "align_items": null,
            "align_self": null,
            "border": null,
            "bottom": null,
            "display": null,
            "flex": null,
            "flex_flow": null,
            "grid_area": null,
            "grid_auto_columns": null,
            "grid_auto_flow": null,
            "grid_auto_rows": null,
            "grid_column": null,
            "grid_gap": null,
            "grid_row": null,
            "grid_template_areas": null,
            "grid_template_columns": null,
            "grid_template_rows": null,
            "height": null,
            "justify_content": null,
            "justify_items": null,
            "left": null,
            "margin": null,
            "max_height": null,
            "max_width": null,
            "min_height": null,
            "min_width": null,
            "object_fit": null,
            "object_position": null,
            "order": null,
            "overflow": null,
            "overflow_x": null,
            "overflow_y": null,
            "padding": null,
            "right": null,
            "top": null,
            "visibility": null,
            "width": null
          }
        },
        "bb8819042bb34b63a1f1f3e8d03806fe": {
          "model_module": "@jupyter-widgets/controls",
          "model_name": "DescriptionStyleModel",
          "model_module_version": "1.5.0",
          "state": {
            "_model_module": "@jupyter-widgets/controls",
            "_model_module_version": "1.5.0",
            "_model_name": "DescriptionStyleModel",
            "_view_count": null,
            "_view_module": "@jupyter-widgets/base",
            "_view_module_version": "1.2.0",
            "_view_name": "StyleView",
            "description_width": ""
          }
        },
        "8a11ab9136564349a5605abe0161686b": {
          "model_module": "@jupyter-widgets/base",
          "model_name": "LayoutModel",
          "model_module_version": "1.2.0",
          "state": {
            "_model_module": "@jupyter-widgets/base",
            "_model_module_version": "1.2.0",
            "_model_name": "LayoutModel",
            "_view_count": null,
            "_view_module": "@jupyter-widgets/base",
            "_view_module_version": "1.2.0",
            "_view_name": "LayoutView",
            "align_content": null,
            "align_items": null,
            "align_self": null,
            "border": null,
            "bottom": null,
            "display": null,
            "flex": null,
            "flex_flow": null,
            "grid_area": null,
            "grid_auto_columns": null,
            "grid_auto_flow": null,
            "grid_auto_rows": null,
            "grid_column": null,
            "grid_gap": null,
            "grid_row": null,
            "grid_template_areas": null,
            "grid_template_columns": null,
            "grid_template_rows": null,
            "height": null,
            "justify_content": null,
            "justify_items": null,
            "left": null,
            "margin": null,
            "max_height": null,
            "max_width": null,
            "min_height": null,
            "min_width": null,
            "object_fit": null,
            "object_position": null,
            "order": null,
            "overflow": null,
            "overflow_x": null,
            "overflow_y": null,
            "padding": null,
            "right": null,
            "top": null,
            "visibility": null,
            "width": null
          }
        },
        "053baffd4735450cbed7f06541741c5c": {
          "model_module": "@jupyter-widgets/controls",
          "model_name": "ProgressStyleModel",
          "model_module_version": "1.5.0",
          "state": {
            "_model_module": "@jupyter-widgets/controls",
            "_model_module_version": "1.5.0",
            "_model_name": "ProgressStyleModel",
            "_view_count": null,
            "_view_module": "@jupyter-widgets/base",
            "_view_module_version": "1.2.0",
            "_view_name": "StyleView",
            "bar_color": null,
            "description_width": ""
          }
        },
        "55ad76090338498a808f24aeb815c35e": {
          "model_module": "@jupyter-widgets/base",
          "model_name": "LayoutModel",
          "model_module_version": "1.2.0",
          "state": {
            "_model_module": "@jupyter-widgets/base",
            "_model_module_version": "1.2.0",
            "_model_name": "LayoutModel",
            "_view_count": null,
            "_view_module": "@jupyter-widgets/base",
            "_view_module_version": "1.2.0",
            "_view_name": "LayoutView",
            "align_content": null,
            "align_items": null,
            "align_self": null,
            "border": null,
            "bottom": null,
            "display": null,
            "flex": null,
            "flex_flow": null,
            "grid_area": null,
            "grid_auto_columns": null,
            "grid_auto_flow": null,
            "grid_auto_rows": null,
            "grid_column": null,
            "grid_gap": null,
            "grid_row": null,
            "grid_template_areas": null,
            "grid_template_columns": null,
            "grid_template_rows": null,
            "height": null,
            "justify_content": null,
            "justify_items": null,
            "left": null,
            "margin": null,
            "max_height": null,
            "max_width": null,
            "min_height": null,
            "min_width": null,
            "object_fit": null,
            "object_position": null,
            "order": null,
            "overflow": null,
            "overflow_x": null,
            "overflow_y": null,
            "padding": null,
            "right": null,
            "top": null,
            "visibility": null,
            "width": null
          }
        },
        "daf4d41af39048ae96ddc3da4057f765": {
          "model_module": "@jupyter-widgets/controls",
          "model_name": "DescriptionStyleModel",
          "model_module_version": "1.5.0",
          "state": {
            "_model_module": "@jupyter-widgets/controls",
            "_model_module_version": "1.5.0",
            "_model_name": "DescriptionStyleModel",
            "_view_count": null,
            "_view_module": "@jupyter-widgets/base",
            "_view_module_version": "1.2.0",
            "_view_name": "StyleView",
            "description_width": ""
          }
        }
      }
    }
  },
  "cells": [
    {
      "cell_type": "code",
      "execution_count": 35,
      "metadata": {
        "id": "EJUPQbXx8SOm"
      },
      "outputs": [],
      "source": [
        "import tensorflow_datasets as tfds\n",
        "import tensorflow as tf\n",
        "import numpy as np\n",
        "import re\n",
        "import string\n",
        "from tensorflow.keras.layers import TextVectorization , Input,Embedding,SimpleRNN,Dense,Bidirectional,LSTM,Dropout,GRU,Conv1D,Flatten\n",
        "from tensorflow.keras.optimizers import Adam\n",
        "from tensorflow.keras.models import Sequential\n",
        "import matplotlib.pyplot as plt"
      ]
    },
    {
      "cell_type": "code",
      "source": [
        "train_ds,val_ds,test_ds = tfds.load('imdb_reviews',split=['train','test[:50%]','test[50%:]'],as_supervised=True)"
      ],
      "metadata": {
        "id": "Cl-Nt4DE8u98",
        "colab": {
          "base_uri": "https://localhost:8080/",
          "height": 136,
          "referenced_widgets": [
            "ca500306ba60426daf11dc6814cdd5e7",
            "6b8fab1b76a045599e55a77cab9a02fb",
            "404bf2247def4b81b6a07ae726b3aa31",
            "ef01fd702f644dce917a235fb79c280a",
            "546c4e9bd4534a68820af1fd837a9d34",
            "2858bfbaf8cf4aa89f571cca26ff4f79",
            "d8959d0f1aef425fb6788c3ec5e2f681",
            "51b3bdaa28cf4000a9532354c8dcd6be",
            "1832edbb04d849829371e0e3543a84da",
            "a28184ecd6c1431aa00b838e3ea6215f",
            "a9afcc672209495c8850196f189242bb",
            "e54cd1fdc16144db97af6af57630de8a",
            "98780ae60bb648a7ad8af1120fde50e3",
            "86e5072c7e104b469ebf261c40fe7c54",
            "4e62528f34bc4bf495af7b3d7d58b295",
            "a895de36646640eea77bcb6b3302091c",
            "4d984f6eff24423f969cb5255eb503b0",
            "1335f395bbb44080862eba678e76ff59",
            "5dfab96b47dd469aabbe4163c31f70ef",
            "e6c82b182efb4b178d02b97f79f4c716",
            "2230e5624f104180870672f965570443",
            "9d90e74690884af1929ee599b199cce4",
            "5d5c852ffa0743c2a9894570adf71668",
            "438cf5fc895f4eeea464d1c2ed3f23fa",
            "0fc02273414f40ddb6300140d5db0b44",
            "042de023a9854a299d703c0f46f1e75f",
            "d2948f06e0e04acda5ea3b03a40fadc0",
            "278292bad3b5495cbb79e697c643eedf",
            "4e04b9ea278943b8a1a57d810b931c8e",
            "c921b23a77a84f0d801dc96104d96268",
            "f4776f736dcd49af992730ea5b6aea4f",
            "0d0987d3f55a441daaaa558462158e35",
            "94b288a2798e49dcb40d9af0b9153571",
            "0d7a8c9aefcb4e48ae08b4034bacf6be",
            "af636aa490ff408fb46ee5d0ca58114d",
            "a694e1a632394af2a0dd60667e9aceb6",
            "1553556648654528af1eccc1588036f6",
            "c59fcb054ef94e5c96c4ed5440c3bae8",
            "9b2c9339184e42e6a5c04d4c1ab19a12",
            "0d58c12b3c334bdeae090a9ae77cc99b",
            "f5ac14c3e58f4a49a32c8ed86539d489",
            "50848c73033e4d40b44caf07a7ac74e1",
            "df93d272a54e433fb077e4190194c3af",
            "716952e5953c41979a6de53279b02270",
            "64c04111f51f43f4ae449faf2914315e",
            "5ef075740b844a248983a1ba6cf28d84",
            "7d118d5c495e40e5b6dd5130e5f0a76e",
            "f2b1b261073946e9b6c2257627cbb02f",
            "904d528ef27541d296fcf4a1ce026461",
            "fb7b0dfd38c745668d90c0ec3dc5ff9a",
            "0c392ff6cd1a461481a445aeed7e2638",
            "b987cc30165b4242b55d4ea709860e37",
            "ceb01604d55144269161facc7177e6bb",
            "ab5aecccc3a84d119e36790cbfc31153",
            "7443b03826bc4462806ddbddb7994d76",
            "60be25899c43458eada0b25a1c09b1f0",
            "109953410e2045ef8fd3a6e2228f4b5e",
            "f3810c699c7a4e79ade83111cd86e6e2",
            "1ab63c1ce3844b118d0cb704655678d7",
            "0dccfd306aa24263aa93aad6c33ecd4b",
            "ddfa71ea3e834ed6aeb24e025f90e3d2",
            "6ca8416865e44603b0dcfb64d7970c22",
            "8ef594effe1c45e790a052382d761d07",
            "942b436ba73f4e0c9c9678cc8b1f3f90",
            "8414fdc4ac4d4562ae4e5463a2499f8c",
            "c0013db4214842bb96b1fbead40729cb",
            "1a48ba2c097b4874ac0d61224cf836ea",
            "cba393b5eadd480c92718da73b06bbfd",
            "04f87391dd3f4b5c8b0594fa523d7a69",
            "871baa21a74b4590a865dca4aa034e47",
            "d4365f3c3fd64ef0b9e875b85d9d7241",
            "c1276ec942fd4e49b9c4d0db28f39cbe",
            "6265ebaea67245c5ad474c70e0108fe5",
            "4f86328cc2cc44b6bb6cbcf763f074ca",
            "4746d61abef640f6b2fe08058815e054",
            "11f8bef8795b4103b15e7be0b5930f44",
            "dd22d427288a4c309711052826cc9f09",
            "35f90c3e23d74678b50e907d095baff0",
            "5211b528dad14ec5a5fdaf5dc768e79a",
            "25fa680f7a9a460cae2da8553e9d50ba",
            "b847e9e034234794ad566542d6a27ba3",
            "df444355865e4946b6b5b8958c02bb66",
            "dd2655787de44aafb40460c711a5cdcf",
            "cf3e3336626745129f28d742e2bc4aac",
            "fbd0be5c724040759b5b4edf889cc553",
            "f00739a3d2934ac9ab54c5cee16a7a58",
            "6a80a07910c247598ef0ebb24a93fc3f",
            "df52698ebce94e59831fbf5f955a2239",
            "506910455efc4ab0803c7ffaa1313f76",
            "2092f229be424e6d89161562ef520102",
            "82fcb8d60bb04a87895ca05e0e1094e6",
            "1cdb7cb47e53473aa1b1170287b10e5b",
            "18161d9aece344e7a78720c4d3443b6f",
            "f8a8e7fca03b4c29980306d2a225d66c",
            "bb8819042bb34b63a1f1f3e8d03806fe",
            "8a11ab9136564349a5605abe0161686b",
            "053baffd4735450cbed7f06541741c5c",
            "55ad76090338498a808f24aeb815c35e",
            "daf4d41af39048ae96ddc3da4057f765"
          ]
        },
        "outputId": "57d90ce4-8ad3-4934-cdc3-8cc21c6f13b4"
      },
      "execution_count": 2,
      "outputs": [
        {
          "output_type": "stream",
          "name": "stdout",
          "text": [
            "Downloading and preparing dataset 80.23 MiB (download: 80.23 MiB, generated: Unknown size, total: 80.23 MiB) to /root/tensorflow_datasets/imdb_reviews/plain_text/1.0.0...\n"
          ]
        },
        {
          "output_type": "display_data",
          "data": {
            "text/plain": [
              "Dl Completed...: 0 url [00:00, ? url/s]"
            ],
            "application/vnd.jupyter.widget-view+json": {
              "version_major": 2,
              "version_minor": 0,
              "model_id": "ca500306ba60426daf11dc6814cdd5e7"
            }
          },
          "metadata": {}
        },
        {
          "output_type": "display_data",
          "data": {
            "text/plain": [
              "Dl Size...: 0 MiB [00:00, ? MiB/s]"
            ],
            "application/vnd.jupyter.widget-view+json": {
              "version_major": 2,
              "version_minor": 0,
              "model_id": "e54cd1fdc16144db97af6af57630de8a"
            }
          },
          "metadata": {}
        },
        {
          "output_type": "display_data",
          "data": {
            "text/plain": [
              "Generating splits...:   0%|          | 0/3 [00:00<?, ? splits/s]"
            ],
            "application/vnd.jupyter.widget-view+json": {
              "version_major": 2,
              "version_minor": 0,
              "model_id": "5d5c852ffa0743c2a9894570adf71668"
            }
          },
          "metadata": {}
        },
        {
          "output_type": "display_data",
          "data": {
            "text/plain": [
              "Generating train examples...:   0%|          | 0/25000 [00:00<?, ? examples/s]"
            ],
            "application/vnd.jupyter.widget-view+json": {
              "version_major": 2,
              "version_minor": 0,
              "model_id": "0d7a8c9aefcb4e48ae08b4034bacf6be"
            }
          },
          "metadata": {}
        },
        {
          "output_type": "display_data",
          "data": {
            "text/plain": [
              "Shuffling /root/tensorflow_datasets/imdb_reviews/plain_text/1.0.0.incompleteMNFSHR/imdb_reviews-train.tfrecord…"
            ],
            "application/vnd.jupyter.widget-view+json": {
              "version_major": 2,
              "version_minor": 0,
              "model_id": "64c04111f51f43f4ae449faf2914315e"
            }
          },
          "metadata": {}
        },
        {
          "output_type": "display_data",
          "data": {
            "text/plain": [
              "Generating test examples...:   0%|          | 0/25000 [00:00<?, ? examples/s]"
            ],
            "application/vnd.jupyter.widget-view+json": {
              "version_major": 2,
              "version_minor": 0,
              "model_id": "60be25899c43458eada0b25a1c09b1f0"
            }
          },
          "metadata": {}
        },
        {
          "output_type": "display_data",
          "data": {
            "text/plain": [
              "Shuffling /root/tensorflow_datasets/imdb_reviews/plain_text/1.0.0.incompleteMNFSHR/imdb_reviews-test.tfrecord*…"
            ],
            "application/vnd.jupyter.widget-view+json": {
              "version_major": 2,
              "version_minor": 0,
              "model_id": "1a48ba2c097b4874ac0d61224cf836ea"
            }
          },
          "metadata": {}
        },
        {
          "output_type": "display_data",
          "data": {
            "text/plain": [
              "Generating unsupervised examples...:   0%|          | 0/50000 [00:00<?, ? examples/s]"
            ],
            "application/vnd.jupyter.widget-view+json": {
              "version_major": 2,
              "version_minor": 0,
              "model_id": "35f90c3e23d74678b50e907d095baff0"
            }
          },
          "metadata": {}
        },
        {
          "output_type": "display_data",
          "data": {
            "text/plain": [
              "Shuffling /root/tensorflow_datasets/imdb_reviews/plain_text/1.0.0.incompleteMNFSHR/imdb_reviews-unsupervised.t…"
            ],
            "application/vnd.jupyter.widget-view+json": {
              "version_major": 2,
              "version_minor": 0,
              "model_id": "506910455efc4ab0803c7ffaa1313f76"
            }
          },
          "metadata": {}
        },
        {
          "output_type": "stream",
          "name": "stdout",
          "text": [
            "Dataset imdb_reviews downloaded and prepared to /root/tensorflow_datasets/imdb_reviews/plain_text/1.0.0. Subsequent calls will reuse this data.\n"
          ]
        }
      ]
    },
    {
      "cell_type": "code",
      "source": [
        "train_ds"
      ],
      "metadata": {
        "colab": {
          "base_uri": "https://localhost:8080/"
        },
        "id": "d0w4eZVp9S7V",
        "outputId": "49094e77-b5be-440d-dc06-b2670b1ef06d"
      },
      "execution_count": 3,
      "outputs": [
        {
          "output_type": "execute_result",
          "data": {
            "text/plain": [
              "<_PrefetchDataset element_spec=(TensorSpec(shape=(), dtype=tf.string, name=None), TensorSpec(shape=(), dtype=tf.int64, name=None))>"
            ]
          },
          "metadata": {},
          "execution_count": 3
        }
      ]
    },
    {
      "cell_type": "code",
      "source": [
        "for review,lable in train_ds.take(2):\n",
        "  print(review)\n",
        "  print(lable)"
      ],
      "metadata": {
        "colab": {
          "base_uri": "https://localhost:8080/"
        },
        "id": "_kutJeXYFNei",
        "outputId": "7707cffd-332b-42d8-93e2-ad168584be39"
      },
      "execution_count": 4,
      "outputs": [
        {
          "output_type": "stream",
          "name": "stdout",
          "text": [
            "tf.Tensor(b\"This was an absolutely terrible movie. Don't be lured in by Christopher Walken or Michael Ironside. Both are great actors, but this must simply be their worst role in history. Even their great acting could not redeem this movie's ridiculous storyline. This movie is an early nineties US propaganda piece. The most pathetic scenes were those when the Columbian rebels were making their cases for revolutions. Maria Conchita Alonso appeared phony, and her pseudo-love affair with Walken was nothing but a pathetic emotional plug in a movie that was devoid of any real meaning. I am disappointed that there are movies like this, ruining actor's like Christopher Walken's good name. I could barely sit through it.\", shape=(), dtype=string)\n",
            "tf.Tensor(0, shape=(), dtype=int64)\n",
            "tf.Tensor(b'I have been known to fall asleep during films, but this is usually due to a combination of things including, really tired, being warm and comfortable on the sette and having just eaten a lot. However on this occasion I fell asleep because the film was rubbish. The plot development was constant. Constantly slow and boring. Things seemed to happen, but with no explanation of what was causing them or why. I admit, I may have missed part of the film, but i watched the majority of it and everything just seemed to happen of its own accord without any real concern for anything else. I cant recommend this film at all.', shape=(), dtype=string)\n",
            "tf.Tensor(0, shape=(), dtype=int64)\n"
          ]
        }
      ]
    },
    {
      "cell_type": "code",
      "source": [
        "def standardization(input_data):\n",
        "  lower_case = tf.strings.lower(input_data)\n",
        "  no_tag = tf.strings.regex_replace(lower_case , \"<[^>]+>\",\"\")\n",
        "  output = tf.strings.regex_replace(no_tag,\"[%s]\"%re.escape(string.punctuation),\"\")\n",
        "  return output"
      ],
      "metadata": {
        "id": "TaK5kz75FU7f"
      },
      "execution_count": 5,
      "outputs": []
    },
    {
      "cell_type": "code",
      "source": [
        "standardization(\"<b> hi harsh?\")"
      ],
      "metadata": {
        "colab": {
          "base_uri": "https://localhost:8080/"
        },
        "id": "hLUQVeA-nYT6",
        "outputId": "661e55b5-2d11-442f-fe1a-dec7f675547f"
      },
      "execution_count": 6,
      "outputs": [
        {
          "output_type": "execute_result",
          "data": {
            "text/plain": [
              "<tf.Tensor: shape=(), dtype=string, numpy=b' hi harsh'>"
            ]
          },
          "metadata": {},
          "execution_count": 6
        }
      ]
    },
    {
      "cell_type": "code",
      "source": [
        "from nltk.stem.porter import PorterStemmer"
      ],
      "metadata": {
        "id": "29qeZLvqoNUj"
      },
      "execution_count": null,
      "outputs": []
    },
    {
      "cell_type": "code",
      "source": [
        "PorterStemmer().stem(\"riding\")"
      ],
      "metadata": {
        "colab": {
          "base_uri": "https://localhost:8080/",
          "height": 35
        },
        "id": "8PelX3xFpUx-",
        "outputId": "55a86f07-8021-4b3b-e37b-0e61d2eb537f"
      },
      "execution_count": null,
      "outputs": [
        {
          "output_type": "execute_result",
          "data": {
            "text/plain": [
              "'ride'"
            ],
            "application/vnd.google.colaboratory.intrinsic+json": {
              "type": "string"
            }
          },
          "metadata": {},
          "execution_count": 8
        }
      ]
    },
    {
      "cell_type": "code",
      "source": [
        "VOCAB_SIZE=10000\n",
        "SEQUENCE_LENGTH=250\n",
        "EMBEDDING_DIM=300"
      ],
      "metadata": {
        "id": "ezhSX3-1pby9"
      },
      "execution_count": 7,
      "outputs": []
    },
    {
      "cell_type": "code",
      "source": [
        "vectorize_layer = TextVectorization(\n",
        "    standardize = standardization,\n",
        "    max_tokens = VOCAB_SIZE,\n",
        "    output_mode = 'int',\n",
        "    output_sequence_length = SEQUENCE_LENGTH\n",
        ")"
      ],
      "metadata": {
        "id": "5ETJD85UPUFm"
      },
      "execution_count": 8,
      "outputs": []
    },
    {
      "cell_type": "code",
      "source": [
        "training_data = train_ds.map(lambda x,y:x)\n",
        "vectorize_layer.adapt(training_data)"
      ],
      "metadata": {
        "id": "RCkqZmgoRG_U"
      },
      "execution_count": 9,
      "outputs": []
    },
    {
      "cell_type": "code",
      "source": [
        "vectorize_layer.get_vocabulary()"
      ],
      "metadata": {
        "colab": {
          "base_uri": "https://localhost:8080/"
        },
        "id": "IZFqlY3ERYcS",
        "outputId": "884024b3-fd6b-4d28-bafe-0acbbb8c87f5"
      },
      "execution_count": null,
      "outputs": [
        {
          "output_type": "execute_result",
          "data": {
            "text/plain": [
              "['',\n",
              " '[UNK]',\n",
              " 'the',\n",
              " 'and',\n",
              " 'a',\n",
              " 'of',\n",
              " 'to',\n",
              " 'is',\n",
              " 'in',\n",
              " 'it',\n",
              " 'this',\n",
              " 'i',\n",
              " 'that',\n",
              " 'was',\n",
              " 'as',\n",
              " 'with',\n",
              " 'for',\n",
              " 'movie',\n",
              " 'but',\n",
              " 'film',\n",
              " 'on',\n",
              " 'not',\n",
              " 'are',\n",
              " 'you',\n",
              " 'his',\n",
              " 'have',\n",
              " 'be',\n",
              " 'he',\n",
              " 'one',\n",
              " 'its',\n",
              " 'at',\n",
              " 'all',\n",
              " 'by',\n",
              " 'an',\n",
              " 'they',\n",
              " 'who',\n",
              " 'from',\n",
              " 'like',\n",
              " 'so',\n",
              " 'her',\n",
              " 'or',\n",
              " 'just',\n",
              " 'about',\n",
              " 'has',\n",
              " 'out',\n",
              " 'if',\n",
              " 'some',\n",
              " 'what',\n",
              " 'there',\n",
              " 'good',\n",
              " 'more',\n",
              " 'very',\n",
              " 'when',\n",
              " 'she',\n",
              " 'even',\n",
              " 'up',\n",
              " 'no',\n",
              " 'would',\n",
              " 'my',\n",
              " 'which',\n",
              " 'only',\n",
              " 'time',\n",
              " 'really',\n",
              " 'story',\n",
              " 'their',\n",
              " 'were',\n",
              " 'had',\n",
              " 'see',\n",
              " 'can',\n",
              " 'me',\n",
              " 'than',\n",
              " 'we',\n",
              " 'much',\n",
              " 'been',\n",
              " 'get',\n",
              " 'well',\n",
              " 'will',\n",
              " 'into',\n",
              " 'because',\n",
              " 'people',\n",
              " 'other',\n",
              " 'also',\n",
              " 'do',\n",
              " 'bad',\n",
              " 'great',\n",
              " 'how',\n",
              " 'first',\n",
              " 'most',\n",
              " 'him',\n",
              " 'dont',\n",
              " 'made',\n",
              " 'movies',\n",
              " 'then',\n",
              " 'films',\n",
              " 'make',\n",
              " 'could',\n",
              " 'way',\n",
              " 'them',\n",
              " 'any',\n",
              " 'too',\n",
              " 'after',\n",
              " 'characters',\n",
              " 'think',\n",
              " 'watch',\n",
              " 'two',\n",
              " 'many',\n",
              " 'being',\n",
              " 'seen',\n",
              " 'character',\n",
              " 'never',\n",
              " 'little',\n",
              " 'acting',\n",
              " 'plot',\n",
              " 'where',\n",
              " 'best',\n",
              " 'love',\n",
              " 'did',\n",
              " 'know',\n",
              " 'life',\n",
              " 'show',\n",
              " 'does',\n",
              " 'ever',\n",
              " 'your',\n",
              " 'better',\n",
              " 'over',\n",
              " 'still',\n",
              " 'off',\n",
              " 'end',\n",
              " 'these',\n",
              " 'say',\n",
              " 'man',\n",
              " 'here',\n",
              " 'scene',\n",
              " 'why',\n",
              " 'such',\n",
              " 'scenes',\n",
              " 'while',\n",
              " 'go',\n",
              " 'should',\n",
              " 'something',\n",
              " 'through',\n",
              " 'back',\n",
              " 'those',\n",
              " 'im',\n",
              " 'doesnt',\n",
              " 'real',\n",
              " 'watching',\n",
              " 'years',\n",
              " 'thing',\n",
              " 'actors',\n",
              " 'though',\n",
              " 'didnt',\n",
              " 'new',\n",
              " 'actually',\n",
              " 'makes',\n",
              " 'before',\n",
              " 'nothing',\n",
              " 'now',\n",
              " 'find',\n",
              " 'another',\n",
              " 'work',\n",
              " 'funny',\n",
              " 'few',\n",
              " 'look',\n",
              " 'old',\n",
              " 'going',\n",
              " 'same',\n",
              " 'lot',\n",
              " 'every',\n",
              " 'us',\n",
              " 'part',\n",
              " 'again',\n",
              " 'cant',\n",
              " 'director',\n",
              " 'quite',\n",
              " 'cast',\n",
              " 'want',\n",
              " 'thats',\n",
              " 'pretty',\n",
              " 'things',\n",
              " 'seems',\n",
              " 'young',\n",
              " 'got',\n",
              " 'around',\n",
              " 'fact',\n",
              " 'down',\n",
              " 'world',\n",
              " 'take',\n",
              " 'enough',\n",
              " 'between',\n",
              " 'give',\n",
              " 'may',\n",
              " 'both',\n",
              " 'big',\n",
              " 'horror',\n",
              " 'thought',\n",
              " 'original',\n",
              " 'own',\n",
              " 'however',\n",
              " 'ive',\n",
              " 'without',\n",
              " 'gets',\n",
              " 'always',\n",
              " 'series',\n",
              " 'right',\n",
              " 'isnt',\n",
              " 'long',\n",
              " 'saw',\n",
              " 'come',\n",
              " 'almost',\n",
              " 'times',\n",
              " 'least',\n",
              " 'role',\n",
              " 'point',\n",
              " 'action',\n",
              " 'must',\n",
              " 'whole',\n",
              " 'interesting',\n",
              " 'bit',\n",
              " 'comedy',\n",
              " 'family',\n",
              " 'theres',\n",
              " 'done',\n",
              " 'music',\n",
              " 'script',\n",
              " 'anything',\n",
              " 'might',\n",
              " 'last',\n",
              " 'hes',\n",
              " 'guy',\n",
              " 'feel',\n",
              " 'minutes',\n",
              " 'far',\n",
              " 'since',\n",
              " 'probably',\n",
              " 'performance',\n",
              " 'am',\n",
              " 'kind',\n",
              " 'rather',\n",
              " 'worst',\n",
              " 'away',\n",
              " 'yet',\n",
              " 'sure',\n",
              " 'tv',\n",
              " 'woman',\n",
              " 'making',\n",
              " 'girl',\n",
              " 'each',\n",
              " 'found',\n",
              " 'fun',\n",
              " 'played',\n",
              " 'anyone',\n",
              " 'our',\n",
              " 'comes',\n",
              " 'believe',\n",
              " 'having',\n",
              " 'trying',\n",
              " 'course',\n",
              " 'especially',\n",
              " 'goes',\n",
              " 'day',\n",
              " 'looks',\n",
              " 'shows',\n",
              " 'hard',\n",
              " 'although',\n",
              " 'different',\n",
              " 'put',\n",
              " 'wasnt',\n",
              " 'place',\n",
              " 'book',\n",
              " 'money',\n",
              " 'reason',\n",
              " 'sense',\n",
              " 'main',\n",
              " 'set',\n",
              " 'ending',\n",
              " 'looking',\n",
              " 'worth',\n",
              " 'true',\n",
              " 'once',\n",
              " 'watched',\n",
              " 'everything',\n",
              " 'plays',\n",
              " 'maybe',\n",
              " 'someone',\n",
              " 'job',\n",
              " 'actor',\n",
              " 'seem',\n",
              " 'said',\n",
              " 'takes',\n",
              " 'screen',\n",
              " 'dvd',\n",
              " 'three',\n",
              " 'play',\n",
              " 'together',\n",
              " 'beautiful',\n",
              " 'effects',\n",
              " 'during',\n",
              " 'instead',\n",
              " 'himself',\n",
              " 'later',\n",
              " '10',\n",
              " 'version',\n",
              " 'john',\n",
              " '2',\n",
              " 'left',\n",
              " 'everyone',\n",
              " 'seeing',\n",
              " 'audience',\n",
              " 'special',\n",
              " 'night',\n",
              " 'house',\n",
              " 'american',\n",
              " 'excellent',\n",
              " 'idea',\n",
              " 'wife',\n",
              " 'nice',\n",
              " 'simply',\n",
              " 'shot',\n",
              " 'youre',\n",
              " 'read',\n",
              " 'high',\n",
              " 'less',\n",
              " 'completely',\n",
              " 'black',\n",
              " 'help',\n",
              " 'else',\n",
              " 'kids',\n",
              " 'fan',\n",
              " 'war',\n",
              " 'used',\n",
              " 'star',\n",
              " 'poor',\n",
              " 'second',\n",
              " 'year',\n",
              " 'given',\n",
              " 'father',\n",
              " 'try',\n",
              " 'death',\n",
              " 'friends',\n",
              " 'need',\n",
              " 'use',\n",
              " 'rest',\n",
              " 'home',\n",
              " 'men',\n",
              " 'enjoy',\n",
              " 'performances',\n",
              " 'mind',\n",
              " 'short',\n",
              " 'classic',\n",
              " 'until',\n",
              " 'either',\n",
              " 'truly',\n",
              " 'hollywood',\n",
              " 'boring',\n",
              " 'along',\n",
              " 'half',\n",
              " 'wrong',\n",
              " 'dead',\n",
              " 'tell',\n",
              " 'production',\n",
              " 'line',\n",
              " 'women',\n",
              " 'couple',\n",
              " 'remember',\n",
              " 'came',\n",
              " 'start',\n",
              " 'recommend',\n",
              " 'next',\n",
              " 'understand',\n",
              " 'wonderful',\n",
              " 'full',\n",
              " 'getting',\n",
              " 'mean',\n",
              " 'others',\n",
              " 'stupid',\n",
              " 'let',\n",
              " 'moments',\n",
              " 'playing',\n",
              " 'keep',\n",
              " 'perhaps',\n",
              " 'awful',\n",
              " 'episode',\n",
              " 'camera',\n",
              " 'terrible',\n",
              " 'small',\n",
              " 'gives',\n",
              " 'stars',\n",
              " 'doing',\n",
              " 'sex',\n",
              " 'often',\n",
              " 'video',\n",
              " 'definitely',\n",
              " 'early',\n",
              " 'perfect',\n",
              " 'become',\n",
              " 'name',\n",
              " 'felt',\n",
              " 'school',\n",
              " 'face',\n",
              " 'human',\n",
              " 'supposed',\n",
              " 'couldnt',\n",
              " 'liked',\n",
              " 'lines',\n",
              " 'dialogue',\n",
              " 'piece',\n",
              " 'person',\n",
              " 'itself',\n",
              " 'lost',\n",
              " 'top',\n",
              " 'absolutely',\n",
              " 'case',\n",
              " 'against',\n",
              " 'went',\n",
              " 'entire',\n",
              " 'live',\n",
              " 'certainly',\n",
              " 'waste',\n",
              " 'sort',\n",
              " 'shes',\n",
              " 'head',\n",
              " 'budget',\n",
              " 'written',\n",
              " 'style',\n",
              " 'finally',\n",
              " 'hope',\n",
              " 'problem',\n",
              " 'picture',\n",
              " 'several',\n",
              " 'loved',\n",
              " 'evil',\n",
              " 'yes',\n",
              " 'title',\n",
              " 'worse',\n",
              " 'becomes',\n",
              " 'entertaining',\n",
              " 'cinema',\n",
              " 'mr',\n",
              " 'seemed',\n",
              " 'white',\n",
              " 'beginning',\n",
              " 'fans',\n",
              " 'boy',\n",
              " 'already',\n",
              " 'care',\n",
              " 'wanted',\n",
              " '\\x96',\n",
              " 'example',\n",
              " 'dark',\n",
              " 'based',\n",
              " 'lives',\n",
              " 'id',\n",
              " 'guys',\n",
              " 'killer',\n",
              " 'mother',\n",
              " 'friend',\n",
              " 'direction',\n",
              " 'throughout',\n",
              " 'totally',\n",
              " 'wont',\n",
              " 'turn',\n",
              " 'fine',\n",
              " 'wants',\n",
              " 'children',\n",
              " 'final',\n",
              " 'amazing',\n",
              " 'laugh',\n",
              " 'drama',\n",
              " 'girls',\n",
              " 'guess',\n",
              " 'lead',\n",
              " '3',\n",
              " 'tries',\n",
              " 'called',\n",
              " 'humor',\n",
              " 'sound',\n",
              " 'youll',\n",
              " 'writing',\n",
              " 'low',\n",
              " 'under',\n",
              " 'despite',\n",
              " 'works',\n",
              " 'turns',\n",
              " 'history',\n",
              " 'able',\n",
              " 'enjoyed',\n",
              " 'oh',\n",
              " 'behind',\n",
              " 'theyre',\n",
              " 'unfortunately',\n",
              " 'michael',\n",
              " 'past',\n",
              " 'quality',\n",
              " 'days',\n",
              " 'gave',\n",
              " 'starts',\n",
              " 'favorite',\n",
              " 'son',\n",
              " 'kill',\n",
              " 'game',\n",
              " 'act',\n",
              " '1',\n",
              " 'sometimes',\n",
              " 'town',\n",
              " 'viewer',\n",
              " 'side',\n",
              " 'parts',\n",
              " 'horrible',\n",
              " 'car',\n",
              " 'actress',\n",
              " 'child',\n",
              " 'ones',\n",
              " 'eyes',\n",
              " 'expect',\n",
              " 'soon',\n",
              " 'flick',\n",
              " 'themselves',\n",
              " 'heart',\n",
              " 'art',\n",
              " 'thinking',\n",
              " 'obviously',\n",
              " 'brilliant',\n",
              " 'stories',\n",
              " 'decent',\n",
              " 'feeling',\n",
              " 'myself',\n",
              " 'genre',\n",
              " 'run',\n",
              " 'late',\n",
              " 'directed',\n",
              " 'overall',\n",
              " 'stuff',\n",
              " 'blood',\n",
              " 'fight',\n",
              " 'says',\n",
              " 'close',\n",
              " 'city',\n",
              " 'took',\n",
              " 'heard',\n",
              " 'cannot',\n",
              " 'highly',\n",
              " 'hand',\n",
              " 'leave',\n",
              " 'except',\n",
              " 'killed',\n",
              " 'kid',\n",
              " 'matter',\n",
              " 'ill',\n",
              " 'moment',\n",
              " 'police',\n",
              " 'hell',\n",
              " 'wouldnt',\n",
              " 'extremely',\n",
              " 'roles',\n",
              " 'strong',\n",
              " 'happens',\n",
              " 'particularly',\n",
              " 'hour',\n",
              " 'lack',\n",
              " 'happened',\n",
              " 'involved',\n",
              " 'attempt',\n",
              " 'obvious',\n",
              " 'told',\n",
              " 'chance',\n",
              " 'living',\n",
              " 'wonder',\n",
              " 'james',\n",
              " 'violence',\n",
              " 'including',\n",
              " 'etc',\n",
              " 'complete',\n",
              " 'voice',\n",
              " 'murder',\n",
              " 'coming',\n",
              " 'daughter',\n",
              " 'group',\n",
              " 'looked',\n",
              " 'age',\n",
              " 'save',\n",
              " 'experience',\n",
              " 'type',\n",
              " 'simple',\n",
              " 'alone',\n",
              " 'number',\n",
              " 'exactly',\n",
              " 'slow',\n",
              " 'shown',\n",
              " 'happen',\n",
              " 'ago',\n",
              " 'god',\n",
              " 'interest',\n",
              " 'score',\n",
              " 'whose',\n",
              " 'brother',\n",
              " 'taken',\n",
              " 'none',\n",
              " 'serious',\n",
              " 'usually',\n",
              " 'across',\n",
              " 'stop',\n",
              " 'hours',\n",
              " 'cinematography',\n",
              " 'annoying',\n",
              " 'running',\n",
              " 'somewhat',\n",
              " 'song',\n",
              " 'known',\n",
              " 'opening',\n",
              " 'ends',\n",
              " 'musical',\n",
              " 'usual',\n",
              " 'sad',\n",
              " 'finds',\n",
              " 'career',\n",
              " 'yourself',\n",
              " 'hit',\n",
              " 'wish',\n",
              " 'started',\n",
              " 'released',\n",
              " 'huge',\n",
              " 'relationship',\n",
              " 'scary',\n",
              " 'gore',\n",
              " 'possible',\n",
              " 'please',\n",
              " 'lets',\n",
              " 'order',\n",
              " 'jokes',\n",
              " 'change',\n",
              " 'david',\n",
              " 'crap',\n",
              " 'saying',\n",
              " 'shots',\n",
              " 'reality',\n",
              " 'english',\n",
              " 'ridiculous',\n",
              " 'hilarious',\n",
              " 'novel',\n",
              " 'episodes',\n",
              " 'mostly',\n",
              " 'cool',\n",
              " 'cut',\n",
              " 'body',\n",
              " 'today',\n",
              " 'ok',\n",
              " 'female',\n",
              " 'major',\n",
              " 'opinion',\n",
              " 'talking',\n",
              " 'seriously',\n",
              " 'taking',\n",
              " 'call',\n",
              " 'robert',\n",
              " 'strange',\n",
              " 'directors',\n",
              " 'due',\n",
              " 'important',\n",
              " 'supporting',\n",
              " 'hero',\n",
              " 'knows',\n",
              " 'knew',\n",
              " 'view',\n",
              " 'documentary',\n",
              " 'power',\n",
              " 'events',\n",
              " 'turned',\n",
              " 'happy',\n",
              " 'apparently',\n",
              " 'husband',\n",
              " 'clearly',\n",
              " 'talent',\n",
              " 'songs',\n",
              " 'arent',\n",
              " 'level',\n",
              " 'room',\n",
              " 'british',\n",
              " 'single',\n",
              " 'king',\n",
              " 'tells',\n",
              " 'local',\n",
              " 'easily',\n",
              " 'attention',\n",
              " 'basically',\n",
              " 'word',\n",
              " 'anyway',\n",
              " '5',\n",
              " 'bring',\n",
              " 'words',\n",
              " 'problems',\n",
              " 'cheap',\n",
              " 'silly',\n",
              " 'sequence',\n",
              " 'television',\n",
              " 'modern',\n",
              " 'disappointed',\n",
              " 'light',\n",
              " 'falls',\n",
              " 'sets',\n",
              " 'future',\n",
              " 'four',\n",
              " 'similar',\n",
              " 'beyond',\n",
              " 'country',\n",
              " 'whether',\n",
              " 'miss',\n",
              " 'five',\n",
              " 'needs',\n",
              " 'appears',\n",
              " 'romantic',\n",
              " '4',\n",
              " 'giving',\n",
              " 'jack',\n",
              " 'viewers',\n",
              " 'predictable',\n",
              " 'earth',\n",
              " 'comic',\n",
              " 'upon',\n",
              " 'entertainment',\n",
              " 'talk',\n",
              " 'rating',\n",
              " 'within',\n",
              " 'paul',\n",
              " 'havent',\n",
              " 'review',\n",
              " 'feels',\n",
              " 'whats',\n",
              " 'message',\n",
              " 'mention',\n",
              " 'george',\n",
              " 'nearly',\n",
              " 'enjoyable',\n",
              " 'bunch',\n",
              " 'theater',\n",
              " 'lady',\n",
              " 'animation',\n",
              " 'storyline',\n",
              " 'rock',\n",
              " 'richard',\n",
              " 'actual',\n",
              " 'points',\n",
              " 'surprised',\n",
              " 'middle',\n",
              " 'moving',\n",
              " 'named',\n",
              " 'above',\n",
              " 'using',\n",
              " 'theme',\n",
              " 'lots',\n",
              " 'herself',\n",
              " 'dull',\n",
              " 'mystery',\n",
              " 'add',\n",
              " 'begins',\n",
              " 'ways',\n",
              " 'sequel',\n",
              " 'among',\n",
              " 'fantastic',\n",
              " 'typical',\n",
              " 'ten',\n",
              " 'showing',\n",
              " 'elements',\n",
              " 'york',\n",
              " 'easy',\n",
              " 'comments',\n",
              " 'thriller',\n",
              " 'team',\n",
              " 'stay',\n",
              " 'writer',\n",
              " 'tried',\n",
              " 'fall',\n",
              " 'effort',\n",
              " 'clear',\n",
              " 'certain',\n",
              " 'near',\n",
              " 'hate',\n",
              " 'release',\n",
              " 'french',\n",
              " 'famous',\n",
              " 'tale',\n",
              " 'parents',\n",
              " 'means',\n",
              " 'leads',\n",
              " 'kept',\n",
              " 'straight',\n",
              " 'working',\n",
              " 'greatest',\n",
              " 'buy',\n",
              " 'dialog',\n",
              " 'soundtrack',\n",
              " 'somehow',\n",
              " 'form',\n",
              " 'class',\n",
              " 'doubt',\n",
              " 'general',\n",
              " 'red',\n",
              " 'editing',\n",
              " 'weak',\n",
              " 'sister',\n",
              " 'brought',\n",
              " 'figure',\n",
              " 'peter',\n",
              " 'feature',\n",
              " 'oscar',\n",
              " 'season',\n",
              " 'material',\n",
              " 'hear',\n",
              " 'gone',\n",
              " 'filmed',\n",
              " 'whos',\n",
              " 'particular',\n",
              " 'viewing',\n",
              " 'sorry',\n",
              " 'learn',\n",
              " 'realistic',\n",
              " 'move',\n",
              " 'tom',\n",
              " 'check',\n",
              " 'atmosphere',\n",
              " 'youve',\n",
              " 'reviews',\n",
              " 'decided',\n",
              " 'sequences',\n",
              " 'fast',\n",
              " 'period',\n",
              " 'imagine',\n",
              " 'possibly',\n",
              " 'eventually',\n",
              " 'deal',\n",
              " 'lame',\n",
              " 'became',\n",
              " 'premise',\n",
              " 'follow',\n",
              " 'dance',\n",
              " 'space',\n",
              " 'de',\n",
              " 'stand',\n",
              " 'avoid',\n",
              " 'eye',\n",
              " 'difficult',\n",
              " 'sit',\n",
              " 'wait',\n",
              " 'lee',\n",
              " 'poorly',\n",
              " 'forget',\n",
              " 'expected',\n",
              " 'zombie',\n",
              " 'die',\n",
              " 'sexual',\n",
              " 'japanese',\n",
              " 'indeed',\n",
              " 'writers',\n",
              " 'surprise',\n",
              " 'crime',\n",
              " 'third',\n",
              " 'nature',\n",
              " 'nor',\n",
              " 'leaves',\n",
              " 'average',\n",
              " '80s',\n",
              " 'subject',\n",
              " 'suspense',\n",
              " 'stage',\n",
              " 'killing',\n",
              " 'believable',\n",
              " 'whatever',\n",
              " 'truth',\n",
              " 'needed',\n",
              " 'filmmakers',\n",
              " 'screenplay',\n",
              " 'rent',\n",
              " 'meets',\n",
              " 'reading',\n",
              " 'meet',\n",
              " 'boys',\n",
              " 'begin',\n",
              " 'question',\n",
              " 'romance',\n",
              " 'street',\n",
              " 'realize',\n",
              " 'emotional',\n",
              " 'forced',\n",
              " 'memorable',\n",
              " 'joe',\n",
              " 'write',\n",
              " 'superb',\n",
              " 'minute',\n",
              " 'dr',\n",
              " 'older',\n",
              " 'keeps',\n",
              " 'earlier',\n",
              " 'situation',\n",
              " 'interested',\n",
              " 'baby',\n",
              " 'whom',\n",
              " 'weird',\n",
              " 'footage',\n",
              " 'credits',\n",
              " 'features',\n",
              " 'dramatic',\n",
              " 'beauty',\n",
              " 'disney',\n",
              " 'shame',\n",
              " 'otherwise',\n",
              " 'towards',\n",
              " 'dog',\n",
              " 'previous',\n",
              " 'badly',\n",
              " 'ask',\n",
              " 'note',\n",
              " 'brings',\n",
              " 'hot',\n",
              " 'crazy',\n",
              " 'comment',\n",
              " 'okay',\n",
              " 'personal',\n",
              " 'male',\n",
              " 'worked',\n",
              " 'total',\n",
              " 'plenty',\n",
              " 'incredibly',\n",
              " 'sounds',\n",
              " 'perfectly',\n",
              " 'directing',\n",
              " 'admit',\n",
              " 'unless',\n",
              " 'society',\n",
              " 'result',\n",
              " 'cheesy',\n",
              " 'unique',\n",
              " 'quickly',\n",
              " 'laughs',\n",
              " 'deep',\n",
              " 'america',\n",
              " 'free',\n",
              " 'creepy',\n",
              " 'development',\n",
              " 'leading',\n",
              " 'appear',\n",
              " 'return',\n",
              " 'meant',\n",
              " 'hardly',\n",
              " 'brothers',\n",
              " 'plus',\n",
              " 'hands',\n",
              " 'open',\n",
              " '20',\n",
              " 'various',\n",
              " 'effect',\n",
              " 'casting',\n",
              " 'remake',\n",
              " 'imdb',\n",
              " 'create',\n",
              " 'b',\n",
              " 'mark',\n",
              " 'setting',\n",
              " 'christmas',\n",
              " 'mess',\n",
              " 'battle',\n",
              " 'scifi',\n",
              " 'potential',\n",
              " 'background',\n",
              " 'monster',\n",
              " 'forward',\n",
              " 'powerful',\n",
              " 'portrayed',\n",
              " 'dream',\n",
              " 'inside',\n",
              " '70s',\n",
              " 'business',\n",
              " 'outside',\n",
              " 'fairly',\n",
              " 'manages',\n",
              " 'ideas',\n",
              " 'missing',\n",
              " 'fails',\n",
              " 'expecting',\n",
              " 'bill',\n",
              " 'present',\n",
              " 'political',\n",
              " 'attempts',\n",
              " 'apart',\n",
              " 'deserves',\n",
              " 'twist',\n",
              " 'la',\n",
              " 'secret',\n",
              " 'dumb',\n",
              " 'jane',\n",
              " 'fire',\n",
              " 'fantasy',\n",
              " 'joke',\n",
              " 'fighting',\n",
              " 'pay',\n",
              " 'air',\n",
              " 'gay',\n",
              " 'front',\n",
              " 'masterpiece',\n",
              " 'married',\n",
              " 'rich',\n",
              " ...]"
            ]
          },
          "metadata": {},
          "execution_count": 42
        }
      ]
    },
    {
      "cell_type": "code",
      "source": [
        "len(vectorize_layer.get_vocabulary())"
      ],
      "metadata": {
        "colab": {
          "base_uri": "https://localhost:8080/"
        },
        "id": "2WF472U5SOHP",
        "outputId": "be5ad914-a85f-43f4-ca17-72e25aac44b1"
      },
      "execution_count": null,
      "outputs": [
        {
          "output_type": "execute_result",
          "data": {
            "text/plain": [
              "10000"
            ]
          },
          "metadata": {},
          "execution_count": 43
        }
      ]
    },
    {
      "cell_type": "code",
      "source": [
        "def vectorizer(review,lable):\n",
        "  return vectorize_layer(review) , lable"
      ],
      "metadata": {
        "id": "aHCBgJQoSYmd"
      },
      "execution_count": 10,
      "outputs": []
    },
    {
      "cell_type": "code",
      "source": [
        "for review , lable in train_ds.take(1):\n",
        "  print(review)\n",
        "  print(lable)"
      ],
      "metadata": {
        "colab": {
          "base_uri": "https://localhost:8080/"
        },
        "id": "M7_M-z3UTGnO",
        "outputId": "5daa1bc1-24ac-47b9-bc5b-852efec575ef"
      },
      "execution_count": null,
      "outputs": [
        {
          "output_type": "stream",
          "name": "stdout",
          "text": [
            "tf.Tensor(b\"This was an absolutely terrible movie. Don't be lured in by Christopher Walken or Michael Ironside. Both are great actors, but this must simply be their worst role in history. Even their great acting could not redeem this movie's ridiculous storyline. This movie is an early nineties US propaganda piece. The most pathetic scenes were those when the Columbian rebels were making their cases for revolutions. Maria Conchita Alonso appeared phony, and her pseudo-love affair with Walken was nothing but a pathetic emotional plug in a movie that was devoid of any real meaning. I am disappointed that there are movies like this, ruining actor's like Christopher Walken's good name. I could barely sit through it.\", shape=(), dtype=string)\n",
            "tf.Tensor(0, shape=(), dtype=int64)\n"
          ]
        }
      ]
    },
    {
      "cell_type": "code",
      "source": [],
      "metadata": {
        "id": "0_47fj3FTXUN"
      },
      "execution_count": null,
      "outputs": []
    },
    {
      "cell_type": "code",
      "source": [
        "train_dataset = train_ds.map(vectorizer)\n",
        "validation_dataset = val_ds.map(vectorizer)"
      ],
      "metadata": {
        "id": "GsVXKH9fSxTV"
      },
      "execution_count": 11,
      "outputs": []
    },
    {
      "cell_type": "code",
      "source": [
        "for review , lable in train_dataset.take(1):\n",
        "  print(review)\n",
        "  print(lable)"
      ],
      "metadata": {
        "colab": {
          "base_uri": "https://localhost:8080/"
        },
        "id": "FBEkMy3ZT6zS",
        "outputId": "4ce7740b-4235-4cdb-caff-a745dd6e5b96"
      },
      "execution_count": null,
      "outputs": [
        {
          "output_type": "stream",
          "name": "stdout",
          "text": [
            "tf.Tensor(\n",
            "[  10   13   33  411  384   17   89   26    1    8   32 1337 3521   40\n",
            "  491    1  192   22   84  149   18   10  215  317   26   64  239  212\n",
            "    8  484   54   64   84  111   95   21 5502   10   91  637  737   10\n",
            "   17    7   33  393 9554  169 2443  406    2   87 1205  135   65  142\n",
            "   52    2    1 7408   65  245   64 2832   16    1 2851    1    1 1415\n",
            " 4969    3   39    1 1567   15 3521   13  156   18    4 1205  881 7874\n",
            "    8    4   17   12   13 4037    5   98  145 1234   11  236  696   12\n",
            "   48   22   91   37   10 7285  149   37 1337    1   49  396   11   95\n",
            " 1148  841  140    9    0    0    0    0    0    0    0    0    0    0\n",
            "    0    0    0    0    0    0    0    0    0    0    0    0    0    0\n",
            "    0    0    0    0    0    0    0    0    0    0    0    0    0    0\n",
            "    0    0    0    0    0    0    0    0    0    0    0    0    0    0\n",
            "    0    0    0    0    0    0    0    0    0    0    0    0    0    0\n",
            "    0    0    0    0    0    0    0    0    0    0    0    0    0    0\n",
            "    0    0    0    0    0    0    0    0    0    0    0    0    0    0\n",
            "    0    0    0    0    0    0    0    0    0    0    0    0    0    0\n",
            "    0    0    0    0    0    0    0    0    0    0    0    0    0    0\n",
            "    0    0    0    0    0    0    0    0    0    0    0    0], shape=(250,), dtype=int64)\n",
            "tf.Tensor(0, shape=(), dtype=int64)\n"
          ]
        }
      ]
    },
    {
      "cell_type": "code",
      "source": [
        "print(vectorize_layer.get_vocabulary()[10])"
      ],
      "metadata": {
        "colab": {
          "base_uri": "https://localhost:8080/"
        },
        "id": "4ptZeQsZUYM3",
        "outputId": "341235ac-3ebb-4fcb-e94c-489b78b78611"
      },
      "execution_count": null,
      "outputs": [
        {
          "output_type": "stream",
          "name": "stdout",
          "text": [
            "this\n"
          ]
        }
      ]
    },
    {
      "cell_type": "code",
      "source": [
        "BATCH_SIZE=32\n",
        "train_dataset=train_dataset.batch(BATCH_SIZE).prefetch(buffer_size=tf.data.AUTOTUNE)\n",
        "val_dataset=validation_dataset.batch(BATCH_SIZE).prefetch(buffer_size=tf.data.AUTOTUNE)"
      ],
      "metadata": {
        "id": "t6MJo-IyUlOW"
      },
      "execution_count": 12,
      "outputs": []
    },
    {
      "cell_type": "code",
      "source": [
        "for review , lable in val_dataset.take(1):\n",
        "  print(review.shape)"
      ],
      "metadata": {
        "colab": {
          "base_uri": "https://localhost:8080/"
        },
        "id": "6ECGeQR0idrs",
        "outputId": "c9ccdacc-bef3-4467-d881-86d11d9033f6"
      },
      "execution_count": null,
      "outputs": [
        {
          "output_type": "stream",
          "name": "stdout",
          "text": [
            "(32, 250)\n"
          ]
        }
      ]
    },
    {
      "cell_type": "markdown",
      "source": [
        "# MODELING"
      ],
      "metadata": {
        "id": "0CF7j-3aadBz"
      }
    },
    {
      "cell_type": "markdown",
      "source": [
        "## Simple RNN"
      ],
      "metadata": {
        "id": "ckmsnReruTkJ"
      }
    },
    {
      "cell_type": "code",
      "source": [
        "EMBEDDING_DIM = 64\n",
        "\n",
        "model = Sequential([\n",
        "    Input(shape=(SEQUENCE_LENGTH,)),\n",
        "    Embedding(VOCAB_SIZE,EMBEDDING_DIM),\n",
        "    SimpleRNN(32),\n",
        "    Dense(1,activation='sigmoid')\n",
        "\n",
        "])"
      ],
      "metadata": {
        "id": "beFD80urZrqT"
      },
      "execution_count": null,
      "outputs": []
    },
    {
      "cell_type": "code",
      "source": [
        "model.summary()"
      ],
      "metadata": {
        "colab": {
          "base_uri": "https://localhost:8080/"
        },
        "id": "ynK2A40yd-8c",
        "outputId": "cfb80db1-21a1-45ec-dbe2-95bc8fcd31a9"
      },
      "execution_count": null,
      "outputs": [
        {
          "output_type": "stream",
          "name": "stdout",
          "text": [
            "Model: \"sequential_1\"\n",
            "_________________________________________________________________\n",
            " Layer (type)                Output Shape              Param #   \n",
            "=================================================================\n",
            " embedding_1 (Embedding)     (None, 250, 64)           640000    \n",
            "                                                                 \n",
            " simple_rnn_1 (SimpleRNN)    (None, 32)                3104      \n",
            "                                                                 \n",
            " dense_1 (Dense)             (None, 1)                 33        \n",
            "                                                                 \n",
            "=================================================================\n",
            "Total params: 643137 (2.45 MB)\n",
            "Trainable params: 643137 (2.45 MB)\n",
            "Non-trainable params: 0 (0.00 Byte)\n",
            "_________________________________________________________________\n"
          ]
        }
      ]
    },
    {
      "cell_type": "code",
      "source": [
        "checkpoint_filepath = '/content/drive/MyDrive/'\n",
        "model_checkpoint_callback = tf.keras.callbacks.ModelCheckpoint(\n",
        "    filepath=checkpoint_filepath,\n",
        "    monitor='val_accuracy',\n",
        "    mode='max',\n",
        "    save_best_only=True)"
      ],
      "metadata": {
        "id": "Jh_mRclWeAjH"
      },
      "execution_count": null,
      "outputs": []
    },
    {
      "cell_type": "code",
      "source": [
        "model.compile(loss='binary_crossentropy',optimizer=tf.keras.optimizers.Adam(1e-4),metrics = ['accuracy'])"
      ],
      "metadata": {
        "id": "c9QJPERBeYnD"
      },
      "execution_count": null,
      "outputs": []
    },
    {
      "cell_type": "code",
      "source": [
        "history=model.fit(\n",
        "    train_dataset,\n",
        "    validation_data=val_dataset,\n",
        "    epochs=9,\n",
        "    callbacks=[model_checkpoint_callback])"
      ],
      "metadata": {
        "colab": {
          "base_uri": "https://localhost:8080/"
        },
        "id": "fkDr5bUsemUU",
        "outputId": "88d3d4dd-89ed-400f-bdee-80bdfdd3e81d"
      },
      "execution_count": null,
      "outputs": [
        {
          "output_type": "stream",
          "name": "stdout",
          "text": [
            "Epoch 1/9\n",
            "782/782 [==============================] - 192s 246ms/step - loss: 0.6807 - accuracy: 0.5656 - val_loss: 0.6972 - val_accuracy: 0.4994\n",
            "Epoch 2/9\n",
            "782/782 [==============================] - 190s 244ms/step - loss: 0.6400 - accuracy: 0.6622 - val_loss: 0.7131 - val_accuracy: 0.4985\n",
            "Epoch 3/9\n",
            "782/782 [==============================] - 187s 239ms/step - loss: 0.5570 - accuracy: 0.7662 - val_loss: 0.7390 - val_accuracy: 0.5017\n",
            "Epoch 4/9\n",
            "782/782 [==============================] - 188s 240ms/step - loss: 0.4655 - accuracy: 0.8336 - val_loss: 0.7721 - val_accuracy: 0.5024\n",
            "Epoch 5/9\n",
            "782/782 [==============================] - 190s 243ms/step - loss: 0.3981 - accuracy: 0.8678 - val_loss: 0.8025 - val_accuracy: 0.5039\n",
            "Epoch 6/9\n",
            "782/782 [==============================] - 189s 242ms/step - loss: 0.3351 - accuracy: 0.8981 - val_loss: 0.8350 - val_accuracy: 0.4994\n",
            "Epoch 7/9\n",
            "782/782 [==============================] - 190s 243ms/step - loss: 0.2981 - accuracy: 0.9111 - val_loss: 0.8694 - val_accuracy: 0.5061\n",
            "Epoch 8/9\n",
            "782/782 [==============================] - 188s 240ms/step - loss: 0.2857 - accuracy: 0.9116 - val_loss: 0.9012 - val_accuracy: 0.5062\n",
            "Epoch 9/9\n",
            "782/782 [==============================] - 189s 242ms/step - loss: 0.2643 - accuracy: 0.9194 - val_loss: 0.9535 - val_accuracy: 0.4973\n"
          ]
        }
      ]
    },
    {
      "cell_type": "code",
      "source": [
        "plt.plot(history.history['loss'],)\n",
        "plt.plot(history.history['val_loss'])\n",
        "plt.ylabel('Model loss')\n",
        "plt.xlabel('epochs')\n",
        "plt.legend(['train','val'])\n",
        "plt.plot()"
      ],
      "metadata": {
        "colab": {
          "base_uri": "https://localhost:8080/",
          "height": 466
        },
        "id": "WB1MITgWeyAd",
        "outputId": "4675757c-159d-4d89-9276-0659dd552960"
      },
      "execution_count": null,
      "outputs": [
        {
          "output_type": "execute_result",
          "data": {
            "text/plain": [
              "[]"
            ]
          },
          "metadata": {},
          "execution_count": 61
        },
        {
          "output_type": "display_data",
          "data": {
            "text/plain": [
              "<Figure size 640x480 with 1 Axes>"
            ],
            "image/png": "[encoded data removed]"
          },
          "metadata": {}
        }
      ]
    },
    {
      "cell_type": "code",
      "source": [
        "plt.plot(history.history['accuracy'],)\n",
        "plt.plot(history.history['val_accuracy'])\n",
        "plt.ylabel('Model accuracy')\n",
        "plt.xlabel('epochs')\n",
        "plt.legend(['train','val'])\n",
        "plt.plot()"
      ],
      "metadata": {
        "colab": {
          "base_uri": "https://localhost:8080/",
          "height": 466
        },
        "id": "TpAbQ0Yhts7K",
        "outputId": "6cc2cca5-1579-471f-92a7-cc7b9e940ee1"
      },
      "execution_count": null,
      "outputs": [
        {
          "output_type": "execute_result",
          "data": {
            "text/plain": [
              "[]"
            ]
          },
          "metadata": {},
          "execution_count": 63
        },
        {
          "output_type": "display_data",
          "data": {
            "text/plain": [
              "<Figure size 640x480 with 1 Axes>"
            ],
            "image/png": "[encoded data removed]"
          },
          "metadata": {}
        }
      ]
    },
    {
      "cell_type": "markdown",
      "source": [
        "## LSTM"
      ],
      "metadata": {
        "id": "_n8IZg6a4ezE"
      }
    },
    {
      "cell_type": "code",
      "source": [
        "EMBEDDING_LAYER = 64\n",
        "model = Sequential([\n",
        "    Input(shape = (SEQUENCE_LENGTH,)),\n",
        "    Embedding(VOCAB_SIZE,EMBEDDING_LAYER),\n",
        "\n",
        "    Bidirectional(LSTM(64,return_sequences=True)),\n",
        "    Bidirectional(LSTM(32)),\n",
        "\n",
        "    Dense(64,activation='relu'),\n",
        "    Dropout(0.5),\n",
        "    Dense(1,activation='sigmoid')\n",
        "])"
      ],
      "metadata": {
        "id": "Xv2Gb5ZAuGFx"
      },
      "execution_count": 16,
      "outputs": []
    },
    {
      "cell_type": "code",
      "source": [
        "model.summary()"
      ],
      "metadata": {
        "colab": {
          "base_uri": "https://localhost:8080/"
        },
        "id": "eCrI-9Vu6LRb",
        "outputId": "b6732eaf-1405-49b7-ae33-97658e8e2eb3"
      },
      "execution_count": 17,
      "outputs": [
        {
          "output_type": "stream",
          "name": "stdout",
          "text": [
            "Model: \"sequential\"\n",
            "_________________________________________________________________\n",
            " Layer (type)                Output Shape              Param #   \n",
            "=================================================================\n",
            " embedding (Embedding)       (None, 250, 64)           640000    \n",
            "                                                                 \n",
            " bidirectional (Bidirection  (None, 250, 128)          66048     \n",
            " al)                                                             \n",
            "                                                                 \n",
            " bidirectional_1 (Bidirecti  (None, 64)                41216     \n",
            " onal)                                                           \n",
            "                                                                 \n",
            " dense (Dense)               (None, 64)                4160      \n",
            "                                                                 \n",
            " dropout (Dropout)           (None, 64)                0         \n",
            "                                                                 \n",
            " dense_1 (Dense)             (None, 1)                 65        \n",
            "                                                                 \n",
            "=================================================================\n",
            "Total params: 751489 (2.87 MB)\n",
            "Trainable params: 751489 (2.87 MB)\n",
            "Non-trainable params: 0 (0.00 Byte)\n",
            "_________________________________________________________________\n"
          ]
        }
      ]
    },
    {
      "cell_type": "code",
      "source": [
        "model.compile(loss='binary_crossentropy',\n",
        "              optimizer = Adam(1e-4),\n",
        "              metrics=['accuracy'])"
      ],
      "metadata": {
        "id": "cM6A8lFD6TqE"
      },
      "execution_count": 21,
      "outputs": []
    },
    {
      "cell_type": "code",
      "source": [
        "history=model.fit(\n",
        "    train_dataset,\n",
        "    validation_data=val_dataset,\n",
        "    epochs=10,\n",
        "    )"
      ],
      "metadata": {
        "colab": {
          "base_uri": "https://localhost:8080/"
        },
        "id": "vJeNTOmY7Ev0",
        "outputId": "88346bb0-b217-46ea-873f-aa8ecf0ad61a"
      },
      "execution_count": 22,
      "outputs": [
        {
          "output_type": "stream",
          "name": "stdout",
          "text": [
            "Epoch 1/10\n",
            "782/782 [==============================] - 112s 130ms/step - loss: 0.5322 - accuracy: 0.7034 - val_loss: 0.3614 - val_accuracy: 0.8458\n",
            "Epoch 2/10\n",
            "782/782 [==============================] - 41s 53ms/step - loss: 0.2894 - accuracy: 0.8900 - val_loss: 0.3210 - val_accuracy: 0.8616\n",
            "Epoch 3/10\n",
            "782/782 [==============================] - 39s 49ms/step - loss: 0.2197 - accuracy: 0.9236 - val_loss: 0.3568 - val_accuracy: 0.8516\n",
            "Epoch 4/10\n",
            "782/782 [==============================] - 41s 53ms/step - loss: 0.1821 - accuracy: 0.9408 - val_loss: 0.4255 - val_accuracy: 0.8394\n",
            "Epoch 5/10\n",
            "782/782 [==============================] - 38s 48ms/step - loss: 0.1650 - accuracy: 0.9474 - val_loss: 0.4549 - val_accuracy: 0.8350\n",
            "Epoch 6/10\n",
            "782/782 [==============================] - 43s 55ms/step - loss: 0.1566 - accuracy: 0.9495 - val_loss: 0.4376 - val_accuracy: 0.8508\n",
            "Epoch 7/10\n",
            "782/782 [==============================] - 42s 54ms/step - loss: 0.1323 - accuracy: 0.9588 - val_loss: 0.4867 - val_accuracy: 0.8448\n",
            "Epoch 8/10\n",
            "782/782 [==============================] - 43s 54ms/step - loss: 0.1063 - accuracy: 0.9700 - val_loss: 0.5200 - val_accuracy: 0.8425\n",
            "Epoch 9/10\n",
            "782/782 [==============================] - 42s 53ms/step - loss: 0.0962 - accuracy: 0.9730 - val_loss: 0.6359 - val_accuracy: 0.8425\n",
            "Epoch 10/10\n",
            "782/782 [==============================] - 43s 55ms/step - loss: 0.0910 - accuracy: 0.9738 - val_loss: 0.6798 - val_accuracy: 0.8323\n"
          ]
        }
      ]
    },
    {
      "cell_type": "code",
      "source": [
        "plt.plot(history.history['loss'],)\n",
        "plt.plot(history.history['val_loss'])\n",
        "plt.ylabel('Model loss')\n",
        "plt.xlabel('epochs')\n",
        "plt.legend(['train','val'])\n",
        "plt.plot()"
      ],
      "metadata": {
        "colab": {
          "base_uri": "https://localhost:8080/",
          "height": 467
        },
        "id": "kwlZXZks7REI",
        "outputId": "cc56ae21-424f-4a38-f860-b066aaeba82e"
      },
      "execution_count": 23,
      "outputs": [
        {
          "output_type": "execute_result",
          "data": {
            "text/plain": [
              "[]"
            ]
          },
          "metadata": {},
          "execution_count": 23
        },
        {
          "output_type": "display_data",
          "data": {
            "text/plain": [
              "<Figure size 640x480 with 1 Axes>"
            ],
            "image/png": "[encoded data removed]"
          },
          "metadata": {}
        }
      ]
    },
    {
      "cell_type": "code",
      "source": [
        "plt.plot(history.history['accuracy'],)\n",
        "plt.plot(history.history['val_accuracy'])\n",
        "plt.ylabel('Model loss')\n",
        "plt.xlabel('epochs')\n",
        "plt.legend(['train','val'])\n",
        "plt.plot()"
      ],
      "metadata": {
        "colab": {
          "base_uri": "https://localhost:8080/",
          "height": 466
        },
        "id": "k9PM93JlADTQ",
        "outputId": "fe075365-a3e1-4a32-fe9d-b8b6df130303"
      },
      "execution_count": 24,
      "outputs": [
        {
          "output_type": "execute_result",
          "data": {
            "text/plain": [
              "[]"
            ]
          },
          "metadata": {},
          "execution_count": 24
        },
        {
          "output_type": "display_data",
          "data": {
            "text/plain": [
              "<Figure size 640x480 with 1 Axes>"
            ],
            "image/png": "[encoded data removed]"
          },
          "metadata": {}
        }
      ]
    },
    {
      "cell_type": "code",
      "source": [
        "test_dataset = test_ds.map(vectorizer)\n",
        "test_dataset = test_dataset.batch(BATCH_SIZE)\n",
        "model.evaluate(test_dataset)"
      ],
      "metadata": {
        "colab": {
          "base_uri": "https://localhost:8080/"
        },
        "id": "kBWykxi8AGLg",
        "outputId": "60686003-4090-41c7-c967-56ff177e260e"
      },
      "execution_count": 26,
      "outputs": [
        {
          "output_type": "stream",
          "name": "stdout",
          "text": [
            "391/391 [==============================] - 8s 20ms/step - loss: 0.6712 - accuracy: 0.8320\n"
          ]
        },
        {
          "output_type": "execute_result",
          "data": {
            "text/plain": [
              "[0.6712332963943481, 0.8320000171661377]"
            ]
          },
          "metadata": {},
          "execution_count": 26
        }
      ]
    },
    {
      "cell_type": "markdown",
      "source": [
        "## GRU"
      ],
      "metadata": {
        "id": "eFAtx0_-Av3D"
      }
    },
    {
      "cell_type": "code",
      "source": [
        "EMBEDDING_LAYER = 64\n",
        "model = Sequential([\n",
        "    Input(shape = (SEQUENCE_LENGTH,)),\n",
        "    Embedding(VOCAB_SIZE,EMBEDDING_LAYER),\n",
        "\n",
        "    Bidirectional(GRU(64,return_sequences=True)),\n",
        "    Bidirectional(GRU(32)),\n",
        "\n",
        "    Dense(64,activation='relu'),\n",
        "    Dropout(0.5),\n",
        "    Dense(1,activation='sigmoid')\n",
        "])"
      ],
      "metadata": {
        "id": "iR6O7TdkAhIV"
      },
      "execution_count": 28,
      "outputs": []
    },
    {
      "cell_type": "code",
      "source": [
        "model.compile(loss='binary_crossentropy',\n",
        "              optimizer =Adam(1e-4),\n",
        "              metrics=['accuracy'])"
      ],
      "metadata": {
        "id": "VdfxqUbXA7l4"
      },
      "execution_count": 29,
      "outputs": []
    },
    {
      "cell_type": "code",
      "source": [
        "history = model.fit(\n",
        "    train_dataset,\n",
        "    validation_data=val_dataset,\n",
        "    epochs=10,\n",
        "    )"
      ],
      "metadata": {
        "colab": {
          "base_uri": "https://localhost:8080/"
        },
        "id": "1c_qsIUaBHHx",
        "outputId": "efb718a1-b704-4c5b-b4eb-cb0223a7a0c1"
      },
      "execution_count": 30,
      "outputs": [
        {
          "output_type": "stream",
          "name": "stdout",
          "text": [
            "Epoch 1/10\n",
            "782/782 [==============================] - 90s 106ms/step - loss: 0.6446 - accuracy: 0.5947 - val_loss: 0.4111 - val_accuracy: 0.8205\n",
            "Epoch 2/10\n",
            "782/782 [==============================] - 41s 52ms/step - loss: 0.3275 - accuracy: 0.8683 - val_loss: 0.3335 - val_accuracy: 0.8622\n",
            "Epoch 3/10\n",
            "782/782 [==============================] - 39s 50ms/step - loss: 0.2405 - accuracy: 0.9117 - val_loss: 0.3640 - val_accuracy: 0.8499\n",
            "Epoch 4/10\n",
            "782/782 [==============================] - 37s 47ms/step - loss: 0.2011 - accuracy: 0.9324 - val_loss: 0.4252 - val_accuracy: 0.8392\n",
            "Epoch 5/10\n",
            "782/782 [==============================] - 42s 54ms/step - loss: 0.1774 - accuracy: 0.9419 - val_loss: 0.4762 - val_accuracy: 0.8306\n",
            "Epoch 6/10\n",
            "782/782 [==============================] - 42s 53ms/step - loss: 0.1626 - accuracy: 0.9474 - val_loss: 0.4911 - val_accuracy: 0.8372\n",
            "Epoch 7/10\n",
            "782/782 [==============================] - 39s 50ms/step - loss: 0.1478 - accuracy: 0.9527 - val_loss: 0.5542 - val_accuracy: 0.8415\n",
            "Epoch 8/10\n",
            "782/782 [==============================] - 41s 52ms/step - loss: 0.1393 - accuracy: 0.9554 - val_loss: 0.5094 - val_accuracy: 0.8458\n",
            "Epoch 9/10\n",
            "782/782 [==============================] - 42s 53ms/step - loss: 0.1256 - accuracy: 0.9598 - val_loss: 0.4936 - val_accuracy: 0.8438\n",
            "Epoch 10/10\n",
            "782/782 [==============================] - 41s 53ms/step - loss: 0.1083 - accuracy: 0.9669 - val_loss: 0.5782 - val_accuracy: 0.8426\n"
          ]
        }
      ]
    },
    {
      "cell_type": "code",
      "source": [
        "plt.plot(history.history['loss'],)\n",
        "plt.plot(history.history['val_loss'])\n",
        "plt.ylabel('Model loss')\n",
        "plt.xlabel('epochs')\n",
        "plt.legend(['train','val'])\n",
        "plt.plot()"
      ],
      "metadata": {
        "colab": {
          "base_uri": "https://localhost:8080/",
          "height": 466
        },
        "id": "sjRRaHRtBO37",
        "outputId": "c7222368-ead1-43ef-e5a6-bcd20798a13d"
      },
      "execution_count": 31,
      "outputs": [
        {
          "output_type": "execute_result",
          "data": {
            "text/plain": [
              "[]"
            ]
          },
          "metadata": {},
          "execution_count": 31
        },
        {
          "output_type": "display_data",
          "data": {
            "text/plain": [
              "<Figure size 640x480 with 1 Axes>"
            ],
            "image/png": "[encoded data removed]"
          },
          "metadata": {}
        }
      ]
    },
    {
      "cell_type": "code",
      "source": [
        "plt.plot(history.history['accuracy'],)\n",
        "plt.plot(history.history['val_accuracy'])\n",
        "plt.ylabel('Model accuracy')\n",
        "plt.xlabel('epochs')\n",
        "plt.legend(['train','val'])\n",
        "plt.plot()"
      ],
      "metadata": {
        "colab": {
          "base_uri": "https://localhost:8080/",
          "height": 466
        },
        "id": "5tMKGp6zBYxZ",
        "outputId": "f3664042-8c83-46c6-ee57-dc79ee70be9e"
      },
      "execution_count": 32,
      "outputs": [
        {
          "output_type": "execute_result",
          "data": {
            "text/plain": [
              "[]"
            ]
          },
          "metadata": {},
          "execution_count": 32
        },
        {
          "output_type": "display_data",
          "data": {
            "text/plain": [
              "<Figure size 640x480 with 1 Axes>"
            ],
            "image/png": "[encoded data removed]"
          },
          "metadata": {}
        }
      ]
    },
    {
      "cell_type": "code",
      "source": [
        "test_dataset = test_ds.map(vectorizer)\n",
        "test_dataset = test_dataset.batch(BATCH_SIZE)\n",
        "model.evaluate(test_dataset)"
      ],
      "metadata": {
        "colab": {
          "base_uri": "https://localhost:8080/"
        },
        "id": "wgsjOA9eBbvx",
        "outputId": "5a145c0a-0fd4-4be3-9e2a-29ca2c99f1eb"
      },
      "execution_count": 33,
      "outputs": [
        {
          "output_type": "stream",
          "name": "stdout",
          "text": [
            "391/391 [==============================] - 8s 21ms/step - loss: 0.5617 - accuracy: 0.8434\n"
          ]
        },
        {
          "output_type": "execute_result",
          "data": {
            "text/plain": [
              "[0.5617462396621704, 0.8434399962425232]"
            ]
          },
          "metadata": {},
          "execution_count": 33
        }
      ]
    },
    {
      "cell_type": "markdown",
      "source": [
        "## Conv1D"
      ],
      "metadata": {
        "id": "33GL4iJUIQ9A"
      }
    },
    {
      "cell_type": "code",
      "source": [
        "EMBEDDING_DIM=64\n",
        "model = Sequential([\n",
        "    Input(shape=(SEQUENCE_LENGTH,)),\n",
        "    Embedding(VOCAB_SIZE,EMBEDDING_DIM),\n",
        "\n",
        "    Conv1D(32,3,activation='relu'),\n",
        "    Flatten(),\n",
        "\n",
        "    Dense(32,activation='relu'),\n",
        "    Dropout(0.5),\n",
        "    Dense(1,activation='sigmoid')\n",
        "\n",
        "\n",
        "])"
      ],
      "metadata": {
        "id": "AlhawbSLBdsI"
      },
      "execution_count": 53,
      "outputs": []
    },
    {
      "cell_type": "code",
      "source": [
        "model.summary()"
      ],
      "metadata": {
        "colab": {
          "base_uri": "https://localhost:8080/"
        },
        "id": "BtSj_Y1NJP5G",
        "outputId": "c29b3df7-2a96-477d-9054-9fdac7c59328"
      },
      "execution_count": 54,
      "outputs": [
        {
          "output_type": "stream",
          "name": "stdout",
          "text": [
            "Model: \"sequential_7\"\n",
            "_________________________________________________________________\n",
            " Layer (type)                Output Shape              Param #   \n",
            "=================================================================\n",
            " embedding_7 (Embedding)     (None, 250, 64)           640000    \n",
            "                                                                 \n",
            " conv1d_5 (Conv1D)           (None, 248, 32)           6176      \n",
            "                                                                 \n",
            " flatten_5 (Flatten)         (None, 7936)              0         \n",
            "                                                                 \n",
            " dense_14 (Dense)            (None, 32)                253984    \n",
            "                                                                 \n",
            " dropout_7 (Dropout)         (None, 32)                0         \n",
            "                                                                 \n",
            " dense_15 (Dense)            (None, 1)                 33        \n",
            "                                                                 \n",
            "=================================================================\n",
            "Total params: 900193 (3.43 MB)\n",
            "Trainable params: 900193 (3.43 MB)\n",
            "Non-trainable params: 0 (0.00 Byte)\n",
            "_________________________________________________________________\n"
          ]
        }
      ]
    },
    {
      "cell_type": "code",
      "source": [
        "model.compile(loss='binary_crossentropy',\n",
        "              optimizer=Adam(1e-4),\n",
        "              metrics=['accuracy'])"
      ],
      "metadata": {
        "id": "xNM013fXJY74"
      },
      "execution_count": 55,
      "outputs": []
    },
    {
      "cell_type": "code",
      "source": [
        "history = model.fit(\n",
        "    train_dataset,\n",
        "    validation_data=val_dataset,\n",
        "    epochs=10,\n",
        "    )"
      ],
      "metadata": {
        "colab": {
          "base_uri": "https://localhost:8080/"
        },
        "id": "pvI-Gh-mLAAv",
        "outputId": "e1f15ada-8cbd-4786-9096-dbd932495e1a"
      },
      "execution_count": 56,
      "outputs": [
        {
          "output_type": "stream",
          "name": "stdout",
          "text": [
            "Epoch 1/10\n",
            "782/782 [==============================] - 47s 59ms/step - loss: 0.6924 - accuracy: 0.5180 - val_loss: 0.6876 - val_accuracy: 0.5519\n",
            "Epoch 2/10\n",
            "782/782 [==============================] - 14s 17ms/step - loss: 0.5043 - accuracy: 0.7597 - val_loss: 0.3450 - val_accuracy: 0.8551\n",
            "Epoch 3/10\n",
            "782/782 [==============================] - 12s 15ms/step - loss: 0.2836 - accuracy: 0.8899 - val_loss: 0.3119 - val_accuracy: 0.8698\n",
            "Epoch 4/10\n",
            "782/782 [==============================] - 14s 18ms/step - loss: 0.2220 - accuracy: 0.9181 - val_loss: 0.3200 - val_accuracy: 0.8679\n",
            "Epoch 5/10\n",
            "782/782 [==============================] - 11s 14ms/step - loss: 0.1806 - accuracy: 0.9373 - val_loss: 0.3380 - val_accuracy: 0.8630\n",
            "Epoch 6/10\n",
            "782/782 [==============================] - 13s 17ms/step - loss: 0.1500 - accuracy: 0.9530 - val_loss: 0.3818 - val_accuracy: 0.8586\n",
            "Epoch 7/10\n",
            "782/782 [==============================] - 12s 15ms/step - loss: 0.1259 - accuracy: 0.9628 - val_loss: 0.4115 - val_accuracy: 0.8564\n",
            "Epoch 8/10\n",
            "782/782 [==============================] - 14s 17ms/step - loss: 0.1053 - accuracy: 0.9703 - val_loss: 0.4430 - val_accuracy: 0.8536\n",
            "Epoch 9/10\n",
            "782/782 [==============================] - 14s 17ms/step - loss: 0.0869 - accuracy: 0.9772 - val_loss: 0.4982 - val_accuracy: 0.8479\n",
            "Epoch 10/10\n",
            "782/782 [==============================] - 13s 16ms/step - loss: 0.0736 - accuracy: 0.9826 - val_loss: 0.5396 - val_accuracy: 0.8464\n"
          ]
        }
      ]
    },
    {
      "cell_type": "code",
      "source": [
        "plt.plot(history.history['loss'])\n",
        "plt.plot(history.history['val_loss'])\n",
        "plt.ylabel('loss')\n",
        "plt.xlabel('epochs')\n",
        "plt.title('model loss')\n",
        "plt.legend(['train','val'])\n",
        "plt.plot()"
      ],
      "metadata": {
        "colab": {
          "base_uri": "https://localhost:8080/",
          "height": 489
        },
        "id": "7Mctg9y0LKxU",
        "outputId": "f64a05b4-193d-4003-c97d-5af5861b5f60"
      },
      "execution_count": 58,
      "outputs": [
        {
          "output_type": "execute_result",
          "data": {
            "text/plain": [
              "[]"
            ]
          },
          "metadata": {},
          "execution_count": 58
        },
        {
          "output_type": "display_data",
          "data": {
            "text/plain": [
              "<Figure size 640x480 with 1 Axes>"
            ],
            "image/png": "[encoded data removed]"
          },
          "metadata": {}
        }
      ]
    },
    {
      "cell_type": "code",
      "source": [
        "plt.plot(history.history['accuracy'])\n",
        "plt.plot(history.history['val_accuracy'])\n",
        "plt.ylabel('accuracy')\n",
        "plt.xlabel('epochs')\n",
        "plt.title('model accuracy')\n",
        "plt.legend(['train','val'])\n",
        "plt.plot()"
      ],
      "metadata": {
        "colab": {
          "base_uri": "https://localhost:8080/",
          "height": 489
        },
        "id": "up7tGHoCNrhT",
        "outputId": "ed1c6235-3417-4bfa-8b14-63da9d29144b"
      },
      "execution_count": 59,
      "outputs": [
        {
          "output_type": "execute_result",
          "data": {
            "text/plain": [
              "[]"
            ]
          },
          "metadata": {},
          "execution_count": 59
        },
        {
          "output_type": "display_data",
          "data": {
            "text/plain": [
              "<Figure size 640x480 with 1 Axes>"
            ],
            "image/png": "[encoded data removed]"
          },
          "metadata": {}
        }
      ]
    },
    {
      "cell_type": "code",
      "source": [
        "model.evaluate(test_dataset)"
      ],
      "metadata": {
        "colab": {
          "base_uri": "https://localhost:8080/"
        },
        "id": "HBwduLr1NzVD",
        "outputId": "327cd7ba-e48c-45ed-fbf2-971fdeafdb74"
      },
      "execution_count": 60,
      "outputs": [
        {
          "output_type": "stream",
          "name": "stdout",
          "text": [
            "391/391 [==============================] - 4s 10ms/step - loss: 0.5391 - accuracy: 0.8457\n"
          ]
        },
        {
          "output_type": "execute_result",
          "data": {
            "text/plain": [
              "[0.5391454696655273, 0.8456799983978271]"
            ]
          },
          "metadata": {},
          "execution_count": 60
        }
      ]
    },
    {
      "cell_type": "code",
      "source": [],
      "metadata": {
        "id": "xhJ8XwyTOSjc"
      },
      "execution_count": null,
      "outputs": []
    }
  ]
}